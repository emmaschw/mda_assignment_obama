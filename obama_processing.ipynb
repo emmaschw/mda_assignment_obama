{
 "cells": [
  {
   "cell_type": "code",
   "execution_count": 1,
   "id": "28b5da49",
   "metadata": {},
   "outputs": [],
   "source": [
    "# set up \n",
    "import pandas as pd\n",
    "\n",
    "# cleaning \n",
    "import re\n",
    "import string \n",
    "\n",
    "#lemmatisation \n",
    "import spacy \n",
    "\n",
    "# n-grams \n",
    "import gensim\n",
    "from gensim.models import Phrases \n",
    "from gensim.models import phrases\n",
    "from gensim.utils import simple_preprocess\n",
    "from gensim.parsing.preprocessing import remove_stopwords, STOPWORDS "
   ]
  },
  {
   "cell_type": "code",
   "execution_count": 2,
   "id": "45028ee0",
   "metadata": {},
   "outputs": [],
   "source": [
    "df = pd.read_excel(\"https://github.com/vtdinh13/testrepo/blob/master/obama_speeches.xlsx?raw=true\", index_col = 0)[0]"
   ]
  },
  {
   "cell_type": "code",
   "execution_count": 3,
   "id": "a0106449",
   "metadata": {},
   "outputs": [],
   "source": [
    "def remove_document_formatting(text):\n",
    "    # separate line breaks from words\n",
    "    p1 = re.compile(r'(\\n)([A-Za-z\\\\[])') \n",
    "    text = re.sub(p1, r\"\\1 \\2\", text) \n",
    "    p2 = re.compile(r'([A-Za-z])(\\n)') \n",
    "    text = re.sub(p2, r\"\\1 \\2\", text)\n",
    "\n",
    "    # remove footer\n",
    "    text = re.sub('(AAm|AmericanRhetoric\\.com)\\s((.||\\n)*?)\\sPage\\s\\d{1,2}', '', text)\n",
    "    text = re.sub('(meerriiccaannR)\\s((.||\\n)*?)\\s(Property)', '', text)\n",
    "\n",
    "    # remove everything up until (and including) the sentence with the date of the speech\n",
    "    text = re.sub(r'^((.|\\n)*)\\s(\\d{1,2}\\s{1,2}[a-zA-Z]{3,9},?\\s\\d{4},?)\\s.*\\s\\n', '', text)  \n",
    "\n",
    "    # remove everything up until (and including) the statement about transcription\n",
    "    text = re.sub('^((.|\\n)*)\\s(\\\\[?AUTHENTICITY)\\s.*\\s\\n', '', text)  \n",
    "\n",
    "    # remove line breaks\n",
    "    text = re.sub(\"\\n\", \"\", text) \n",
    "    \n",
    "    # remove multiple white spaces\n",
    "    text = re.sub(\"\\s+\", \" \", text)\n",
    "    \n",
    "    # lower case\n",
    "    text = text.lower() \n",
    "    \n",
    "    return text\n",
    "\n",
    "# returns list of strings\n",
    "def lemmatisation(text,  postags = ['NOUN', 'ADJ', 'VERB', 'ADV', 'PROPN']):\n",
    "    nlp = spacy.load('en_core_web_sm', disable = ['parser'])        \n",
    "    doc = nlp(text)\n",
    "    lemmat_data = [token.lemma_ for token in doc if token.pos_ in postags]\n",
    "    \n",
    "    return lemmat_data\n",
    "\n",
    "\n",
    "def clean_texts(texts):\n",
    "    final_texts = []\n",
    "    remove_sw_from_list = {\"bill\"}\n",
    "    stopwords = STOPWORDS.difference(remove_sw_from_list)\n",
    "    \n",
    "    for text in texts:\n",
    "        \n",
    "        # clean formatting \n",
    "        text = remove_document_formatting(text)\n",
    "        \n",
    "        \n",
    "        #lemmatization, make back into text from list\n",
    "        text = \" \".join(lemmatisation(text))\n",
    "        \n",
    "        \n",
    "        # remove stop words\n",
    "        no_stops_text = [word for word in text.split() if word not in stopwords]\n",
    "        no_stops_text = \" \".join( no_stops_text)\n",
    "        \n",
    "        # remove punctuation \n",
    "        no_puncts = re.sub(\"[^a-zA-Z\\d\\s/]\", \"\", no_stops_text)\n",
    "        \n",
    "        final_texts.append(no_puncts)       \n",
    "        \n",
    "    return  final_texts"
   ]
  },
  {
   "cell_type": "code",
   "execution_count": 4,
   "id": "f0e6b227",
   "metadata": {},
   "outputs": [],
   "source": [
    "def prepare_n_grams(texts):\n",
    "    n_grams_list = []\n",
    "    for text in texts:\n",
    "        new = gensim.utils.simple_preprocess(text, deacc=True)\n",
    "        n_grams_list.append(new)\n",
    "    return n_grams_list\n",
    "\n",
    "def find_n_grams(texts):\n",
    "    new_data = prepare_n_grams(texts)\n",
    "    bigram_phrases = Phrases(new_data, min_count = 5, threshold = 120, connector_words=phrases.ENGLISH_CONNECTOR_WORDS)\n",
    "\n",
    "    trigram_phrases = Phrases(bigram_phrases[new_data], threshold = 120, connector_words=phrases.ENGLISH_CONNECTOR_WORDS)\n",
    "    \n",
    "    bigram = phrases.Phraser(bigram_phrases)\n",
    "    \n",
    "    trigram = phrases.Phraser(trigram_phrases)\n",
    "    \n",
    "    ngrams = [bigram[text] for text in new_data]\n",
    "    ngrams = [trigram[bigram[text]] for text in new_data]\n",
    "    \n",
    "    cleaned_list = [\" \".join(wordlist) for wordlist in ngrams]\n",
    "    return cleaned_list"
   ]
  },
  {
   "cell_type": "code",
   "execution_count": 6,
   "id": "6432ad34",
   "metadata": {},
   "outputs": [
    {
     "name": "stdout",
     "output_type": "stream",
     "text": [
      "behalf great state illinois crossroad nation land lincoln let express deep gratitude privilege address convention tonight particular honor let face presence stage pretty unlikely father foreign student bear raise small village kenya grow herd goat school tin roof shack father grandfather cook domestic servant british grandfather large dream son hard work perseverance father scholarship study magical place america shine beacon freedom opportunity come study father meet mother bear town world kansas father work oil rig farm depression day pearl harbor grandfather sign duty join patton army march europe home grandmother raise baby work bomber assembly line war study gi  bill buy house fha later west way hawaii search opportunity big dream daughter common dream bear continent parent share improbable love share abide faith possibility nation african barack bless believe tolerant america barrier success imagine imagine good school land rich generous america rich achieve potential pass know night look great pride stand stand today grateful diversity heritage aware parent dream live precious daughter stand know story large american story owe debt come country earth story possible tonight gather affirm greatness nation height skyscraper power military size economy pride base simple premise sum declaration year ago hold truth self evident man create equal endow creator certain inalienable right life liberty pursuit happiness true genius america faith faith simple dream insistence small miracle tuck child night know feed clothe safe harm think write think hear sudden knock door idea start business pay bribe participate political process fear retribution vote count time year election reaffirm value commitment hold hard reality measure legacy forbearer promise future generation fellow americans democrats republicans independent tonight work work worker meet galesburg illinois lose union job maytag plant s mexico compete child job pay buck hour father meet lose job choke tear wonder pay dollar month drug son need health benefit count young woman east st  louis thousand grade drive money college wrong people meet small town big city diner office park expect government solve problem know work hard ahead want collar county chicago people tell want tax money waste welfare agency pentagon inner city neighborhood folk tell government teach kid learn know parent teach child achieve raise expectation turn television set eradicate slander black youth book act white know thing people expect people expect government solve problem sense deep bone slight change priority sure child america decent shot life door opportunity remain open know want choice election offer choice party choose man lead embody good country offer man john kerry john kerry understand ideal community faith service ve define life heroic service vietnam year prosecutor lieutenant governor decade united states senate devote country ve tough choice easy available value record affirm good john kerry believe america hard work reward instead offer tax break company ship job overseas offer company create job home john kerry believe america americans afford health coverage politician washington john kerry believe energy independence hold hostage profit oil company sabotage foreign oil field john kerry believe constitutional freedom country envy world sacrifice basic liberty use faith wedge divide john kerry believe dangerous world war option option know awhile meet young man shamus vfw hall east moline illinois good look kid clear eye easy smile tell d join marine head iraq following week listen explain d enlist absolute faith country leader devotion duty service think young man hope child ask serve shamus serve think man woman son daughter husband wife friend neighbor return hometown think family ve meet struggle love income love return limb miss nerve shatter lack long term health benefit reservist send young man woman harm way solemn obligation fudge number shade truth re care family re tend soldier return war troop win war secure peace earn respect world let clear let clear real enemy world enemy pursue defeat john kerry know lieutenant kerry hesitate risk life protect man serve vietnam president kerry hesitate moment use military america safe secure john kerry believe america know  prosper famous individualism  ingredient american saga belief re connect people child south chicago read matter s child senior citizen pay prescription drug choose medicine rent life poor s grandparent  arab american family round benefit attorney process threaten civil liberty fundamental belief fundamental belief brother keeper sister keeper country work  allow pursue individual dream come american family e pluribus unum speak prepare divide spin master negative ad peddler embrace politic tonight liberal america conservative america united states america black america white america latino america asian america  united states america pundit pundit like slice dice country red state blue state red state republicans blue state democrats ve news worship awesome god blue state federal agent poke library red state coach little league blue state ve gay friend red state patriot oppose war iraq patriot support war iraq people pledge allegiance star stripe defend united states america end end end election participate politics cynicism participate politics hope john kerry hope john edwards hope m talk blind optimism willful ignorance think unemployment away think health care crisis solve ignore s m talk m talk substantial  hope slave sit singe freedom song hope immigrant set distant shore hope young naval lieutenant bravely patrol mekong delta hope millworker son dare defy odd hope skinny kid funny believe america place hope hope face difficulty hope face uncertainty audacity hope end god great gift bedrock nation belief thing belief day ahead believe middle class relief provide work family road opportunity believe provide job jobless home homeless reclaim young people city america violence despair believe righteous wind stand crossroad history right choice meet challenge face america tonight feel energy feel urgency feel passion feel hopefulness doubt country florida oregon washington maine people rise november john kerry swear president john edwards swear vice president country reclaim promise long political darkness bright day come thank god bless thank\n"
     ]
    }
   ],
   "source": [
    "clean = clean_texts(df)\n",
    "print(clean[0])"
   ]
  },
  {
   "cell_type": "code",
   "execution_count": 7,
   "id": "7a672976",
   "metadata": {},
   "outputs": [
    {
     "data": {
      "text/plain": [
       "'behalf great state illinois crossroad nation land lincoln let express deep gratitude privilege address convention tonight particular honor let face presence stage pretty unlikely father foreign student bear raise small village kenya grow herd goat school tin roof shack father grandfather cook domestic servant british grandfather large dream son hard work perseverance father scholarship study magical place america shine beacon freedom opportunity come study father meet mother bear town world kansas father work oil rig farm depression day pearl_harbor grandfather sign duty join patton_army march europe home grandmother raise baby work bomber_assembly_line war study gi_bill buy house fha later west way hawaii search opportunity big dream daughter common dream bear continent parent share improbable love share abide faith possibility nation african barack bless believe tolerant america barrier success imagine imagine good school land rich generous america rich achieve potential pass know night look great pride stand stand today grateful diversity heritage aware parent dream live precious daughter stand know story large american story owe debt come country earth story possible tonight gather affirm greatness nation height skyscraper power military size economy pride base simple premise sum declaration year ago hold truth_self_evident man create_equal_endow creator_certain inalienable right life liberty_pursuit_happiness true genius america faith faith simple dream insistence small miracle tuck child night know feed clothe safe harm think write think hear sudden knock_door idea start business_pay_bribe participate political process fear retribution vote count time year election reaffirm value commitment hold hard reality measure legacy forbearer promise future generation fellow americans democrats_republicans independent tonight work work worker meet galesburg illinois lose union job maytag plant mexico compete child job pay buck hour father meet lose job choke tear wonder pay dollar month drug son need health benefit count young woman east st_louis thousand grade drive money college wrong people meet small town big city diner office park expect government solve_problem know work hard ahead want collar county chicago people tell want tax money waste welfare agency pentagon inner_city neighborhood folk tell government teach kid learn know parent teach child achieve raise expectation turn television set eradicate slander black youth book act white know thing people expect people expect government solve_problem sense deep bone slight change priority sure child america decent shot life door opportunity remain open know want choice election offer choice party choose man lead embody good country offer man john_kerry john_kerry understand ideal community faith service ve define life heroic service vietnam year prosecutor lieutenant governor decade united_states_senate devote country ve tough choice easy available value record affirm good john_kerry believe america hard work reward instead offer tax_break company ship job overseas offer company create job home john_kerry believe america americans afford health coverage politician washington john_kerry believe energy independence hold hostage profit oil company sabotage foreign_oil field john_kerry believe constitutional freedom country envy world sacrifice basic liberty use faith wedge divide john_kerry believe dangerous world war option option know awhile meet young man shamus vfw hall east moline illinois good look kid clear eye easy smile tell join marine head iraq following week listen explain enlist absolute faith country leader devotion duty service think young man hope child ask serve shamus serve think man_woman son_daughter husband_wife friend neighbor return hometown think family ve meet struggle love income love return limb miss nerve shatter lack long term health benefit reservist send young man_woman harm way solemn obligation fudge number shade truth re care family re tend soldier return war troop win war secure peace earn respect world let clear let clear real enemy world enemy pursue defeat john_kerry know lieutenant kerry hesitate risk life protect man serve vietnam president kerry hesitate moment use military america safe secure john_kerry believe america know prosper famous individualism ingredient american saga belief re connect people child south chicago read matter child senior citizen pay prescription_drug choose medicine rent life poor grandparent arab american family round benefit attorney process threaten civil_liberty fundamental belief fundamental belief brother_keeper_sister_keeper country work allow pursue individual dream come american family pluribus_unum speak prepare divide spin master negative ad peddler embrace politic tonight liberal america conservative america united_states_america black america white america latino america asian america united_states_america pundit pundit like slice dice country red state blue state red state republicans blue state democrats ve news worship awesome god blue state federal agent poke library red state coach little league blue state ve gay friend red state patriot oppose war iraq patriot support war iraq people pledge_allegiance star stripe defend united_states_america end end end election participate politics cynicism participate politics hope john_kerry hope john edwards hope talk blind_optimism willful ignorance think unemployment away think health_care crisis solve ignore talk talk substantial hope slave sit singe freedom song hope immigrant set distant shore hope young naval lieutenant bravely patrol mekong_delta hope millworker son dare defy odd hope skinny kid funny believe america place hope hope face difficulty hope face uncertainty audacity hope end god great gift bedrock nation belief thing belief day ahead believe middle_class relief provide work family road opportunity believe provide job jobless home homeless reclaim young people city america violence despair believe righteous wind stand crossroad history right choice meet challenge face america tonight feel energy feel urgency feel passion feel hopefulness doubt country florida oregon washington maine people rise november john_kerry swear president john edwards swear vice president country reclaim promise long political darkness bright day come thank_god_bless thank'"
      ]
     },
     "execution_count": 7,
     "metadata": {},
     "output_type": "execute_result"
    }
   ],
   "source": [
    "final_clean = find_n_grams(clean)\n",
    "final_clean[0]"
   ]
  },
  {
   "cell_type": "code",
   "execution_count": 8,
   "id": "6e24b3d3",
   "metadata": {},
   "outputs": [],
   "source": [
    "with open(\"clean_obama_speeches.txt\", \"w\") as file:\n",
    "    file.writelines(final_clean)\n",
    "    file.close()"
   ]
  },
  {
   "cell_type": "code",
   "execution_count": null,
   "id": "f34ba74e",
   "metadata": {},
   "outputs": [],
   "source": []
  },
  {
   "cell_type": "code",
   "execution_count": null,
   "id": "c6bb0af2",
   "metadata": {},
   "outputs": [],
   "source": []
  },
  {
   "cell_type": "code",
   "execution_count": null,
   "id": "2603abfa",
   "metadata": {},
   "outputs": [],
   "source": []
  },
  {
   "cell_type": "code",
   "execution_count": null,
   "id": "16de65d3",
   "metadata": {},
   "outputs": [],
   "source": []
  },
  {
   "cell_type": "code",
   "execution_count": null,
   "id": "95fef238",
   "metadata": {},
   "outputs": [],
   "source": []
  }
 ],
 "metadata": {
  "kernelspec": {
   "display_name": "Python 3 (ipykernel)",
   "language": "python",
   "name": "python3"
  },
  "language_info": {
   "codemirror_mode": {
    "name": "ipython",
    "version": 3
   },
   "file_extension": ".py",
   "mimetype": "text/x-python",
   "name": "python",
   "nbconvert_exporter": "python",
   "pygments_lexer": "ipython3",
   "version": "3.9.12"
  },
  "latex_envs": {
   "LaTeX_envs_menu_present": true,
   "autoclose": false,
   "autocomplete": true,
   "bibliofile": "biblio.bib",
   "cite_by": "apalike",
   "current_citInitial": 1,
   "eqLabelWithNumbers": true,
   "eqNumInitial": 1,
   "hotkeys": {
    "equation": "Ctrl-E",
    "itemize": "Ctrl-I"
   },
   "labels_anchors": false,
   "latex_user_defs": false,
   "report_style_numbering": false,
   "user_envs_cfg": false
  },
  "toc": {
   "base_numbering": 1,
   "nav_menu": {},
   "number_sections": true,
   "sideBar": true,
   "skip_h1_title": false,
   "title_cell": "Table of Contents",
   "title_sidebar": "Contents",
   "toc_cell": false,
   "toc_position": {},
   "toc_section_display": true,
   "toc_window_display": false
  }
 },
 "nbformat": 4,
 "nbformat_minor": 5
}
