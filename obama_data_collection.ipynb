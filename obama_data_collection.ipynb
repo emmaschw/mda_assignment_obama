{
 "cells": [
  {
   "cell_type": "code",
   "execution_count": null,
   "id": "ae8fea73",
   "metadata": {},
   "outputs": [],
   "source": [
    "# accessing APIs and URLs\n",
    "import requests\n",
    "\n",
    "# static web scraping\n",
    "from urllib.request import urlopen\n",
    "from lxml.html import parse, fromstring\n",
    "\n",
    "# downloading files\n",
    "import urllib.request\n",
    "\n",
    "# looping through folder\n",
    "import glob"
   ]
  },
  {
   "cell_type": "code",
   "execution_count": null,
   "id": "87fc2841",
   "metadata": {},
   "outputs": [],
   "source": [
    "# extract all links from website\n",
    "tree = parse(urlopen(\"https://www.americanrhetoric.com/barackobamaspeeches.htm\"))\n",
    "linkelements = tree.xpath(\"//a\")\n",
    "links = [e.attrib[\"href\"] for e in linkelements]"
   ]
  },
  {
   "cell_type": "code",
   "execution_count": null,
   "id": "a3a5d0d5",
   "metadata": {},
   "outputs": [],
   "source": [
    "# only retain pdf links\n",
    "p = re.compile('.*pdf$')\n",
    "pdf_links = [ s for s in links if p.match(s) ]"
   ]
  },
  {
   "cell_type": "code",
   "execution_count": null,
   "id": "e76f6cc0",
   "metadata": {},
   "outputs": [],
   "source": [
    "# concetenate baseurl and path\n",
    "baseurl=\"https://www.americanrhetoric.com/\"\n",
    "full_pdf_links = [baseurl + link for link in pdf_links]"
   ]
  },
  {
   "cell_type": "code",
   "execution_count": null,
   "id": "2b88d503",
   "metadata": {},
   "outputs": [],
   "source": [
    "# create new folder\n",
    "os.makedirs(\"data\")"
   ]
  },
  {
   "cell_type": "code",
   "execution_count": null,
   "id": "12072552",
   "metadata": {},
   "outputs": [],
   "source": [
    "# download all pdf files\n",
    "i = 1\n",
    "for link in full_pdf_links:\n",
    "    x = \"data/file_\" + str(i) + \".pdf\"\n",
    "    urllib.request.urlretrieve(link, x)\n",
    "    i = i+1"
   ]
  },
  {
   "cell_type": "code",
   "execution_count": null,
   "id": "5b215d02",
   "metadata": {},
   "outputs": [],
   "source": [
    "# sort pdf files by name\n",
    "numbers = re.compile(r'(\\d+)')\n",
    "def numericalSort(value):\n",
    "    parts = numbers.split(value)\n",
    "    parts[1::2] = map(int, parts[1::2])\n",
    "    return parts\n",
    "\n",
    "filename_list = sorted(glob.glob(\"data/*.pdf\"), key=numericalSort)\n",
    "\n",
    "# create empty list\n",
    "speech = []\n",
    "\n",
    "# loop through all files\n",
    "for filename in filename_list:\n",
    "    with fitz.open(filename) as doc:\n",
    "        text = \"\"\n",
    "        for page in doc:\n",
    "            text += page.get_text()\n",
    "    speech.append(text)"
   ]
  },
  {
   "cell_type": "code",
   "execution_count": null,
   "id": "2759b0f3",
   "metadata": {},
   "outputs": [],
   "source": [
    "df = speech.copy()"
   ]
  },
  {
   "cell_type": "code",
   "execution_count": null,
   "id": "badc8891",
   "metadata": {},
   "outputs": [],
   "source": [
    "# write dataframe to excel file\n",
    "df.to_excel(\"obama_speeches.xlsx\")"
   ]
  },
  {
   "cell_type": "code",
   "execution_count": null,
   "id": "9f580f91",
   "metadata": {},
   "outputs": [],
   "source": []
  }
 ],
 "metadata": {
  "kernelspec": {
   "display_name": "Python 3 (ipykernel)",
   "language": "python",
   "name": "python3"
  },
  "language_info": {
   "codemirror_mode": {
    "name": "ipython",
    "version": 3
   },
   "file_extension": ".py",
   "mimetype": "text/x-python",
   "name": "python",
   "nbconvert_exporter": "python",
   "pygments_lexer": "ipython3",
   "version": "3.9.12"
  },
  "latex_envs": {
   "LaTeX_envs_menu_present": true,
   "autoclose": false,
   "autocomplete": true,
   "bibliofile": "biblio.bib",
   "cite_by": "apalike",
   "current_citInitial": 1,
   "eqLabelWithNumbers": true,
   "eqNumInitial": 1,
   "hotkeys": {
    "equation": "Ctrl-E",
    "itemize": "Ctrl-I"
   },
   "labels_anchors": false,
   "latex_user_defs": false,
   "report_style_numbering": false,
   "user_envs_cfg": false
  },
  "toc": {
   "base_numbering": 1,
   "nav_menu": {},
   "number_sections": true,
   "sideBar": true,
   "skip_h1_title": false,
   "title_cell": "Table of Contents",
   "title_sidebar": "Contents",
   "toc_cell": false,
   "toc_position": {},
   "toc_section_display": true,
   "toc_window_display": false
  }
 },
 "nbformat": 4,
 "nbformat_minor": 5
}
