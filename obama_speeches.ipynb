{
 "cells": [
  {
   "cell_type": "markdown",
   "id": "f02f08e4",
   "metadata": {},
   "source": [
    "# Downloading and Importing Data"
   ]
  },
  {
   "cell_type": "code",
   "execution_count": 2,
   "id": "26c2d9a4",
   "metadata": {},
   "outputs": [],
   "source": [
    "# accessing APIs and URLs\n",
    "import requests\n",
    "\n",
    "# static web scraping\n",
    "from urllib.request import urlopen\n",
    "from lxml.html import parse, fromstring\n",
    "\n",
    "# regular expressions\n",
    "import re\n",
    "\n",
    "# downloading files\n",
    "import urllib.request\n",
    "\n",
    "# operating system\n",
    "import os\n",
    "\n",
    "# looping through folder\n",
    "import glob\n",
    "\n",
    "# read pdfs\n",
    "import fitz \n",
    "\n",
    "# data wrangling\n",
    "import pandas as pd"
   ]
  },
  {
   "cell_type": "code",
   "execution_count": 3,
   "id": "abe0671d",
   "metadata": {},
   "outputs": [],
   "source": [
    "# extract all links from website\n",
    "tree=parse(urlopen(\"https://www.americanrhetoric.com/barackobamaspeeches.htm\"))\n",
    "linkelements = tree.xpath(\"//a\")\n",
    "links = [e.attrib[\"href\"] for e in linkelements]"
   ]
  },
  {
   "cell_type": "code",
   "execution_count": 4,
   "id": "b2f83fb0",
   "metadata": {},
   "outputs": [
    {
     "data": {
      "text/plain": [
       "1417"
      ]
     },
     "execution_count": 4,
     "metadata": {},
     "output_type": "execute_result"
    }
   ],
   "source": [
    "len(links)"
   ]
  },
  {
   "cell_type": "code",
   "execution_count": 5,
   "id": "11274b3a",
   "metadata": {
    "scrolled": false
   },
   "outputs": [],
   "source": [
    "# only retain pdf links\n",
    "p = re.compile('.*pdf$')\n",
    "pdf_links = [ s for s in links if p.match(s) ]"
   ]
  },
  {
   "cell_type": "code",
   "execution_count": 6,
   "id": "054e8227",
   "metadata": {},
   "outputs": [
    {
     "data": {
      "text/plain": [
       "436"
      ]
     },
     "execution_count": 6,
     "metadata": {},
     "output_type": "execute_result"
    }
   ],
   "source": [
    "len(pdf_links)"
   ]
  },
  {
   "cell_type": "code",
   "execution_count": 7,
   "id": "d5b3106e",
   "metadata": {},
   "outputs": [],
   "source": [
    "# concetenate baseurl and path\n",
    "baseurl=\"https://www.americanrhetoric.com/\"\n",
    "full_pdf_links = [baseurl + link for link in pdf_links]"
   ]
  },
  {
   "cell_type": "code",
   "execution_count": 8,
   "id": "889ab6d8",
   "metadata": {},
   "outputs": [],
   "source": [
    "# create new folder\n",
    "os.makedirs(\"data\")"
   ]
  },
  {
   "cell_type": "code",
   "execution_count": 9,
   "id": "5fc1f802",
   "metadata": {},
   "outputs": [],
   "source": [
    "# download all pdf files\n",
    "i = 1\n",
    "for link in full_pdf_links:\n",
    "    x = \"data/file_\" + str(i) + \".pdf\"\n",
    "    urllib.request.urlretrieve(link, x)\n",
    "    i = i+1"
   ]
  },
  {
   "cell_type": "code",
   "execution_count": 10,
   "id": "8a9e883b",
   "metadata": {},
   "outputs": [],
   "source": [
    "# import all files\n",
    "\n",
    "# sort pdf files by name\n",
    "numbers = re.compile(r'(\\d+)')\n",
    "def numericalSort(value):\n",
    "    parts = numbers.split(value)\n",
    "    parts[1::2] = map(int, parts[1::2])\n",
    "    return parts\n",
    "\n",
    "filename_list = sorted(glob.glob(\"data/*.pdf\"), key=numericalSort)\n",
    "\n",
    "# create empty lists\n",
    "speech = []\n",
    "name = []\n",
    "\n",
    "# loop through all files\n",
    "for filename in filename_list:\n",
    "    with fitz.open(filename) as doc:\n",
    "        text = \"\"\n",
    "        for page in doc:\n",
    "            text += page.get_text()\n",
    "    speech.append(text)\n",
    "    file = re.search(r'file_\\d{1,3}', filename)\n",
    "    file = file.group()\n",
    "    name.append(file)\n",
    "\n",
    "# create pandas data frame\n",
    "d = {'speech': speech, 'filename': name}\n",
    "df = pd.DataFrame(data=d)"
   ]
  },
  {
   "cell_type": "code",
   "execution_count": 11,
   "id": "60ed7bad",
   "metadata": {},
   "outputs": [],
   "source": [
    "# extract date of speech\n",
    "date_reg = r'(\\d{1,2}\\s{1,2}[a-zA-Z]{3,9},?\\s\\d{4})'\n",
    "df['date'] = df['speech'].str.extract(date_reg, expand=False)\n",
    "df['date'] = pd.to_datetime(df['date'])"
   ]
  },
  {
   "cell_type": "markdown",
   "id": "7b6e382e",
   "metadata": {},
   "source": [
    "The date extraction works fairly well. Only files 271, 329 and 377 still cause some issues and need fixing."
   ]
  },
  {
   "cell_type": "code",
   "execution_count": 12,
   "id": "701dcc2b",
   "metadata": {},
   "outputs": [
    {
     "data": {
      "text/html": [
       "<div>\n",
       "<style scoped>\n",
       "    .dataframe tbody tr th:only-of-type {\n",
       "        vertical-align: middle;\n",
       "    }\n",
       "\n",
       "    .dataframe tbody tr th {\n",
       "        vertical-align: top;\n",
       "    }\n",
       "\n",
       "    .dataframe thead th {\n",
       "        text-align: right;\n",
       "    }\n",
       "</style>\n",
       "<table border=\"1\" class=\"dataframe\">\n",
       "  <thead>\n",
       "    <tr style=\"text-align: right;\">\n",
       "      <th></th>\n",
       "      <th>speech</th>\n",
       "      <th>filename</th>\n",
       "      <th>date</th>\n",
       "    </tr>\n",
       "  </thead>\n",
       "  <tbody>\n",
       "    <tr>\n",
       "      <th>0</th>\n",
       "      <td>\\nAAm\\nmeerriiccaannRRhheettoorriicc..ccoom\\...</td>\n",
       "      <td>file_1</td>\n",
       "      <td>2004-07-27</td>\n",
       "    </tr>\n",
       "    <tr>\n",
       "      <th>1</th>\n",
       "      <td>\\nAAm\\nmeerriiccaannRRhheettoorriicc..ccoom\\...</td>\n",
       "      <td>file_2</td>\n",
       "      <td>2005-01-06</td>\n",
       "    </tr>\n",
       "    <tr>\n",
       "      <th>2</th>\n",
       "      <td>\\nAAm\\nmeerriiccaannRRhheettoorriicc..ccoom\\...</td>\n",
       "      <td>file_3</td>\n",
       "      <td>2005-06-04</td>\n",
       "    </tr>\n",
       "    <tr>\n",
       "      <th>3</th>\n",
       "      <td>\\nAAm\\nmeerriiccaannRRhheettoorriicc..ccoom\\...</td>\n",
       "      <td>file_4</td>\n",
       "      <td>2005-10-25</td>\n",
       "    </tr>\n",
       "    <tr>\n",
       "      <th>4</th>\n",
       "      <td>\\nAAm\\nmeerriiccaannRRhheettoorriicc..ccoom\\...</td>\n",
       "      <td>file_5</td>\n",
       "      <td>2005-12-15</td>\n",
       "    </tr>\n",
       "    <tr>\n",
       "      <th>...</th>\n",
       "      <td>...</td>\n",
       "      <td>...</td>\n",
       "      <td>...</td>\n",
       "    </tr>\n",
       "    <tr>\n",
       "      <th>431</th>\n",
       "      <td>\\nAAm\\nmeerriiccaannRRhheettoorriicc..ccoom\\...</td>\n",
       "      <td>file_432</td>\n",
       "      <td>2017-01-10</td>\n",
       "    </tr>\n",
       "    <tr>\n",
       "      <th>432</th>\n",
       "      <td>\\nAAm\\nmeerriiccaannRRhheettoorriicc..ccoom\\...</td>\n",
       "      <td>file_433</td>\n",
       "      <td>2017-01-12</td>\n",
       "    </tr>\n",
       "    <tr>\n",
       "      <th>433</th>\n",
       "      <td>\\nAAm\\nmeerriiccaannRRhheettoorriicc..ccoom\\...</td>\n",
       "      <td>file_434</td>\n",
       "      <td>2017-01-17</td>\n",
       "    </tr>\n",
       "    <tr>\n",
       "      <th>434</th>\n",
       "      <td>\\nAAm\\nmeerriiccaannRRhheettoorriicc..ccoom\\...</td>\n",
       "      <td>file_435</td>\n",
       "      <td>2017-01-18</td>\n",
       "    </tr>\n",
       "    <tr>\n",
       "      <th>435</th>\n",
       "      <td>\\nAAm\\nmeerriiccaannRRhheettoorriicc..ccoom\\...</td>\n",
       "      <td>file_436</td>\n",
       "      <td>2017-01-20</td>\n",
       "    </tr>\n",
       "  </tbody>\n",
       "</table>\n",
       "<p>436 rows × 3 columns</p>\n",
       "</div>"
      ],
      "text/plain": [
       "                                                speech  filename       date\n",
       "0      \\nAAm\\nmeerriiccaannRRhheettoorriicc..ccoom\\...    file_1 2004-07-27\n",
       "1      \\nAAm\\nmeerriiccaannRRhheettoorriicc..ccoom\\...    file_2 2005-01-06\n",
       "2      \\nAAm\\nmeerriiccaannRRhheettoorriicc..ccoom\\...    file_3 2005-06-04\n",
       "3      \\nAAm\\nmeerriiccaannRRhheettoorriicc..ccoom\\...    file_4 2005-10-25\n",
       "4      \\nAAm\\nmeerriiccaannRRhheettoorriicc..ccoom\\...    file_5 2005-12-15\n",
       "..                                                 ...       ...        ...\n",
       "431    \\nAAm\\nmeerriiccaannRRhheettoorriicc..ccoom\\...  file_432 2017-01-10\n",
       "432    \\nAAm\\nmeerriiccaannRRhheettoorriicc..ccoom\\...  file_433 2017-01-12\n",
       "433    \\nAAm\\nmeerriiccaannRRhheettoorriicc..ccoom\\...  file_434 2017-01-17\n",
       "434    \\nAAm\\nmeerriiccaannRRhheettoorriicc..ccoom\\...  file_435 2017-01-18\n",
       "435    \\nAAm\\nmeerriiccaannRRhheettoorriicc..ccoom\\...  file_436 2017-01-20\n",
       "\n",
       "[436 rows x 3 columns]"
      ]
     },
     "execution_count": 12,
     "metadata": {},
     "output_type": "execute_result"
    }
   ],
   "source": [
    "df"
   ]
  }
 ],
 "metadata": {
  "hide_input": false,
  "kernelspec": {
   "display_name": "Python 3 (ipykernel)",
   "language": "python",
   "name": "python3"
  },
  "language_info": {
   "codemirror_mode": {
    "name": "ipython",
    "version": 3
   },
   "file_extension": ".py",
   "mimetype": "text/x-python",
   "name": "python",
   "nbconvert_exporter": "python",
   "pygments_lexer": "ipython3",
   "version": "3.9.5"
  },
  "toc": {
   "base_numbering": 1,
   "nav_menu": {},
   "number_sections": true,
   "sideBar": true,
   "skip_h1_title": false,
   "title_cell": "Table of Contents",
   "title_sidebar": "Contents",
   "toc_cell": false,
   "toc_position": {},
   "toc_section_display": true,
   "toc_window_display": false
  }
 },
 "nbformat": 4,
 "nbformat_minor": 5
}
