{
 "cells": [
  {
   "cell_type": "markdown",
   "id": "55e109c3",
   "metadata": {},
   "source": [
    "# Data Collection and Import"
   ]
  },
  {
   "cell_type": "code",
   "execution_count": 2,
   "id": "26c2d9a4",
   "metadata": {},
   "outputs": [],
   "source": [
    "# accessing APIs and URLs\n",
    "import requests\n",
    "\n",
    "# static web scraping\n",
    "from urllib.request import urlopen\n",
    "from lxml.html import parse, fromstring\n",
    "\n",
    "# regular expressions\n",
    "import re\n",
    "\n",
    "# downloading files\n",
    "import urllib.request\n",
    "\n",
    "# operating system\n",
    "import os\n",
    "\n",
    "# looping through folder\n",
    "import glob\n",
    "\n",
    "# read pdfs\n",
    "import fitz \n",
    "\n",
    "# NLP\n",
    "from nltk.corpus import PlaintextCorpusReader"
   ]
  },
  {
   "cell_type": "code",
   "execution_count": 3,
   "id": "abe0671d",
   "metadata": {},
   "outputs": [],
   "source": [
    "# extract all links from website\n",
    "tree=parse(urlopen(\"https://www.americanrhetoric.com/barackobamaspeeches.htm\"))\n",
    "linkelements = tree.xpath(\"//a\")\n",
    "links = [e.attrib[\"href\"] for e in linkelements]"
   ]
  },
  {
   "cell_type": "code",
   "execution_count": 4,
   "id": "b2f83fb0",
   "metadata": {},
   "outputs": [
    {
     "data": {
      "text/plain": [
       "1417"
      ]
     },
     "execution_count": 4,
     "metadata": {},
     "output_type": "execute_result"
    }
   ],
   "source": [
    "len(links)"
   ]
  },
  {
   "cell_type": "code",
   "execution_count": 5,
   "id": "11274b3a",
   "metadata": {
    "scrolled": false
   },
   "outputs": [],
   "source": [
    "# only retain pdf links\n",
    "p = re.compile('.*pdf$')\n",
    "pdf_links = [ s for s in links if p.match(s) ]"
   ]
  },
  {
   "cell_type": "code",
   "execution_count": 6,
   "id": "054e8227",
   "metadata": {},
   "outputs": [
    {
     "data": {
      "text/plain": [
       "436"
      ]
     },
     "execution_count": 6,
     "metadata": {},
     "output_type": "execute_result"
    }
   ],
   "source": [
    "len(pdf_links)"
   ]
  },
  {
   "cell_type": "code",
   "execution_count": 7,
   "id": "d5b3106e",
   "metadata": {},
   "outputs": [],
   "source": [
    "# concetenate baseurl and path\n",
    "baseurl=\"https://www.americanrhetoric.com/\"\n",
    "full_pdf_links = [baseurl + link for link in pdf_links]"
   ]
  },
  {
   "cell_type": "code",
   "execution_count": 8,
   "id": "889ab6d8",
   "metadata": {},
   "outputs": [],
   "source": [
    "# create new folder\n",
    "os.makedirs(\"data\")"
   ]
  },
  {
   "cell_type": "code",
   "execution_count": 9,
   "id": "5fc1f802",
   "metadata": {},
   "outputs": [],
   "source": [
    "# download all pdf files\n",
    "i = 1\n",
    "for link in full_pdf_links:\n",
    "    x = \"data/file_\" + str(i) + \".pdf\"\n",
    "    urllib.request.urlretrieve(link, x)\n",
    "    i = i+1"
   ]
  },
  {
   "cell_type": "code",
   "execution_count": 43,
   "id": "8a9e883b",
   "metadata": {},
   "outputs": [],
   "source": [
    "# sort pdf files by name\n",
    "numbers = re.compile(r'(\\d+)')\n",
    "def numericalSort(value):\n",
    "    parts = numbers.split(value)\n",
    "    parts[1::2] = map(int, parts[1::2])\n",
    "    return parts\n",
    "\n",
    "filename_list = sorted(glob.glob(\"data/*.pdf\"), key=numericalSort)\n",
    "\n",
    "# create new folder\n",
    "os.makedirs(\"data_txt\")\n",
    "\n",
    "# loop through all files and save as txt filles in data_txt folder\n",
    "for filename in filename_list:\n",
    "    with fitz.open(filename) as doc:\n",
    "        text = \"\"\n",
    "        for page in doc:\n",
    "            text += page.get_text()\n",
    "    name = filename.replace(\"pdf\", \"txt\")\n",
    "    name = name.replace(\"data\", \"data_txt\")\n",
    "    f = open(name, \"a\")\n",
    "    f.write(text)\n",
    "    f.close()"
   ]
  },
  {
   "cell_type": "code",
   "execution_count": 84,
   "id": "60ed7bad",
   "metadata": {},
   "outputs": [],
   "source": [
    "# import corpus\n",
    "corpus_root = 'data_txt/'\n",
    "speeches = PlaintextCorpusReader(corpus_root, '/file.*\\.txt')"
   ]
  },
  {
   "cell_type": "code",
   "execution_count": 85,
   "id": "30953d6a",
   "metadata": {},
   "outputs": [
    {
     "data": {
      "text/plain": [
       "'  \\nAAm\\nmeerriiccaannRRhheettoorriicc..ccoom\\nm  \\n \\nAmericanRhetoric.com \\nUpdated 12/7/21 \\n     Page 1 \\nBarack Obama \\n2004 Democratic National Convention Keynote Address \\ndelivered 27 July 2004, Fleet Center, Boston \\n \\n \\nAUTHENTICITY CERTIFIED: Text version below transcribed directly from audio \\nOn behalf of the great state of Illinois, crossroads of a nation, Land of Lincoln, let me express \\nmy deepest gratitude for the privilege of addressing this convention. \\nTonight is a particular honor for me because, let’s face it, my presence on this stage is pretty \\nunlikely. My father was a foreign student, born and raised in a small village in Kenya. He grew \\nup herding goats, went to school in a tin-roof shack. His father -- my grandfather -- was a \\ncook, a domestic servant to the British. \\nBut my grandfather had larger dreams for his son. Through hard work and perseverance my \\nfather got a scholarship to study in a magical place, America, that shone as a beacon of \\nfreedom and opportunity to so many who had come before. \\nWhile studying here, my father met my mother. She was born in a town on the other side of \\nthe world, in Kansas. Her father worked on oil rigs and farms through most of the Depression. \\nThe day after Pearl Harbor my grandfather signed up for duty; joined Patton’s army, marched \\nacross Europe. Back home, my grandmother raised a baby and went to work on a bomber \\nassembly line. After the war, they studied on the G.I. Bill, bought a house through F.H.A., and \\nlater moved west all the way to Hawaii in search of opportunity. \\n  \\nAAm\\nmeerriiccaannRRhheettoorriicc..ccoom\\nm  \\n \\nAmericanRhetoric.com \\nUpdated 12/7/21 \\n     Page 2 \\nAnd they, too, had big dreams for their daughter. A common dream, born of two continents. \\nMy parents shared not only an improbable love, they shared an abiding faith in the \\npossibilities of this nation. They would give me an African name, Barack, or ”blessed,” \\nbelieving that in a tolerant America your name is no barrier to success. They imagined -- They \\nimagined me going to the best schools in the land, even though they weren’t rich, because in \\na generous America you don’t have to be rich to achieve your potential. \\nThey\\'re both passed away now. And yet, I know that on this night they look down on me with \\ngreat pride. \\nThey stand here, and I stand here today, grateful for the diversity of my heritage, aware that \\nmy parents’ dreams live on in my two precious daughters. I stand here knowing that my story \\nis part of the larger American story, that I owe a debt to all of those who came before me, \\nand that, in no other country on earth, is my story even possible. \\nTonight, we gather to affirm the greatness of our Nation -- not because of the height of our \\nskyscrapers, or the power of our military, or the size of our economy. Our pride is based on a \\nvery simple premise, summed up in a declaration made over two hundred years ago:  \\nWe hold these truths to be self-evident, that all men are created equal, that they are \\nendowed by their Creator with certain inalienable rights, that among these are Life, \\nLiberty and the pursuit of Happiness. \\nThat is the true genius of America, a faith -- a faith in simple dreams, an insistence on small \\nmiracles; that we can tuck in our children at night and know that they are fed and clothed and \\nsafe from harm; that we can say what we think, write what we think, without hearing a \\nsudden knock on the door; that we can have an idea and start our own business without \\npaying a bribe; that we can participate in the political process without fear of retribution, and \\nthat our votes will be counted -- at least most of the time. \\nThis year, in this election we are called to reaffirm our values and our commitments, to hold \\nthem against a hard reality and see how we\\'re measuring up to the legacy of our forbearers \\nand the promise of future generations. \\nAnd fellow Americans, Democrats, Republicans, Independents, I say to you tonight: We have \\nmore work to do --  more work to do for the workers I met in Galesburg, Illinois, who are \\nlosing their union jobs at the Maytag plant that’s moving to Mexico, and now are having to \\ncompete with their own children for jobs that pay seven bucks an hour; more to do for the \\n  \\nAAm\\nmeerriiccaannRRhheettoorriicc..ccoom\\nm  \\n \\nAmericanRhetoric.com \\nUpdated 12/7/21 \\n     Page 3 \\nfather that I met who was losing his job and choking back the tears, wondering how he would \\npay 4500 dollars a month for the drugs his son needs without the health benefits that he \\ncounted on; more to do for the young woman in East St. Louis, and thousands more like her, \\nwho has the grades, has the drive, has the will, but doesn’t have the money to go to college. \\nNow, don’t get me wrong. The people I meet -- in small towns and big cities, in diners and \\noffice parks -- they don’t expect government to solve all their problems. They know they have \\nto work hard to get ahead,  and they want to. Go into the collar counties around Chicago, and \\npeople will tell you they don’t want their tax money wasted, by a welfare agency or by the \\nPentagon. Go in -- Go into any inner city neighborhood, and folks will tell you that \\ngovernment alone can’t teach our kids to learn; they know that parents have to teach, that \\nchildren can’t achieve unless we raise their expectations and turn off the television sets and \\neradicate the slander that says a black youth with a book is acting white. They know those \\nthings. \\nPeople don’t expect -- People don\\'t expect government to solve all their problems. But they \\nsense, deep in their bones, that with just a slight change in priorities, we can make sure that \\nevery child in America has a decent shot at life, and that the doors of opportunity remain open \\nto all. \\nThey know we can do better. And they want that choice. \\nIn this election, we offer that choice. Our Party has chosen a man to lead us who embodies \\nthe best this country has to offer. And that man is John Kerry. \\nJohn Kerry understands the ideals of community, faith, and service because they’ve defined \\nhis life. From his heroic service to Vietnam, to his years as a prosecutor and lieutenant \\ngovernor, through two decades in the United States Senate, he\\'s devoted himself to this \\ncountry. Again and again, we’ve seen him make tough choices when easier ones were \\navailable. \\nHis values and his record affirm what is best in us. John Kerry believes in an America where \\nhard work is rewarded; so instead of offering tax breaks to companies shipping jobs overseas, \\nhe offers them to companies creating jobs here at home. \\nJohn Kerry believes in an America where all Americans can afford the same health coverage \\nour politicians in Washington have for themselves. \\n  \\nAAm\\nmeerriiccaannRRhheettoorriicc..ccoom\\nm  \\n \\nAmericanRhetoric.com \\nUpdated 12/7/21 \\n     Page 4 \\nJohn Kerry believes in energy independence, so we aren’t held hostage to the profits of oil \\ncompanies, or the sabotage of foreign oil fields. \\nJohn Kerry believes in the Constitutional freedoms that have made our country the envy of \\nthe world, and he will never sacrifice our basic liberties, nor use faith as a wedge to divide us. \\nAnd John Kerry believes that in a dangerous world war must be an option sometimes, but it \\nshould never be the first option. \\nYou know, a while back -- awhile back I met a young man named Shamus in a V.F.W. Hall in \\nEast Moline, Illinois. He was a good-looking kid -- six two, six three, clear eyed, with an easy \\nsmile. He told me he’d joined the Marines and was heading to Iraq the following week. And as \\nI listened to him explain why he’d enlisted, the absolute faith he had in our country and its \\nleaders, his devotion to duty and service, I thought this young man was all that any of us \\nmight ever hope for in a child. \\nBut then I asked myself, \"Are we serving Shamus as well as he is serving us?\" \\nI thought of the 900 men and women -- sons and daughters, husbands and wives, friends and \\nneighbors, who won’t be returning to their own hometowns. I thought of the families I’ve met \\nwho were struggling to get by without a loved one’s full income, or whose loved ones had \\nreturned with a limb missing or nerves shattered, but still lacked long-term health benefits \\nbecause they were Reservists. \\nWhen we send our young men and women into harm’s way, we have a solemn obligation not \\nto fudge the numbers or shade the truth about why they’re going, to care for their families \\nwhile they’re gone, to tend to the soldiers upon their return, and to never ever go to war \\nwithout enough troops to win the war, secure the peace, and earn the respect of the world. \\nNow -- Now let me be clear. Let me be clear. We have real enemies in the world. These \\nenemies must be found. They must be pursued. And they must be defeated. John Kerry knows \\nthis. And just as Lieutenant Kerry did not hesitate to risk his life to protect the men who \\nserved with him in Vietnam, President Kerry will not hesitate one moment to use our military \\nmight to keep America safe and secure. \\nJohn Kerry believes in America. And he knows that it’s not enough for just some of us to \\nprosper -- for alongside our famous individualism, there’s another ingredient in the American \\nsaga,  a belief that we’re all connected as one people. If there is a child on the south side of \\nChicago who can’t read, that matters to me, even if it’s not my child. \\n  \\nAAm\\nmeerriiccaannRRhheettoorriicc..ccoom\\nm  \\n \\nAmericanRhetoric.com \\nUpdated 12/7/21 \\n     Page 5 \\nIf there is a senior citizen somewhere who can’t pay for their prescription drugs, and having to \\nchoose between medicine and the rent, that makes my life poorer, even if it’s not my \\ngrandparent. If there’s an Arab American family being rounded up without benefit of an \\nattorney or due process, that threatens my civil liberties. \\nIt is that fundamental belief -- It is that fundamental belief: I am my brother’s keeper. I am \\nmy sister’s keeper that makes this country work. It’s what allows us to pursue our individual \\ndreams and yet still come together as one American family. \\nE pluribus unum: \"Out of many, one.\" \\nNow even as we speak, there are those who are preparing to divide us -- the spin masters, \\nthe negative ad peddlers who embrace the politics of \"anything goes.\" Well, I say to them \\ntonight, there is not a liberal America and a conservative America -- there is the United States \\nof America. There is not a Black America and a White America and Latino America and Asian \\nAmerica -- there’s the United States of America. \\nThe pundits, the pundits like to slice-and-dice our country into red states and blue states; red \\nstates for Republicans, blue states for Democrats. But I’ve got news for them, too. We \\nworship an awesome God in the blue states, and we don’t like federal agents poking around in \\nour libraries in the red states. We coach Little League in the blue states and yes, we’ve got \\nsome gay friends in the red states. There are patriots who opposed the war in Iraq and there \\nare patriots who supported the war in Iraq. We are one people, all of us pledging allegiance to \\nthe stars and stripes, all of us defending the United States of America. \\nIn the end -- In the end -- In the end, that’s what this election is about. Do we participate in a \\npolitics of cynicism or do we participate in a politics of hope? \\nJohn Kerry calls on us to hope. John Edwards calls on us to hope. \\nI’m not talking about blind optimism here -- the almost willful ignorance that thinks \\nunemployment will go away if we just don’t think about it, or the health care crisis will solve \\nitself if we just ignore it. That’s not what I’m talking about. I’m talking about something more \\nsubstantial. It’s the hope of slaves sitting around a fire singing freedom songs; the hope of \\nimmigrants setting out for distant shores; the hope of a young naval lieutenant bravely \\npatrolling the Mekong Delta; the hope of a millworker’s son who dares to defy the odds; the \\nhope of a skinny kid with a funny name who believes that America has a place for him, too. \\nHope -- Hope in the face of difficulty. Hope in the face of uncertainty. The audacity of hope! \\n  \\nAAm\\nmeerriiccaannRRhheettoorriicc..ccoom\\nm  \\n \\nAmericanRhetoric.com \\nUpdated 12/7/21 \\n     Page 6 \\nIn the end, that is God’s greatest gift to us, the bedrock of this nation. A belief in things not \\nseen. A belief that there are better days ahead. \\nI believe that we can give our middle class relief and provide working families with a road to \\nopportunity. \\nI believe we can provide jobs to the jobless, homes to the homeless, and reclaim young \\npeople in cities across America from violence and despair. \\nI believe that we have a righteous wind at our backs and that as we stand on the crossroads \\nof history, we can make the right choices, and meet the challenges that face us. \\nAmerica! Tonight, if you feel the same energy that I do, if you feel the same urgency that I \\ndo, if you feel the same passion that I do, if you feel the same hopefulness that I do -- if we \\ndo what we must do, then I have no doubt that all across the country, from Florida to Oregon, \\nfrom Washington to Maine, the people will rise up in November, and John Kerry will be sworn \\nin as President, and John Edwards will be sworn in as Vice President, and this country will \\nreclaim its promise, and out of this long political darkness a brighter day will come. \\nThank you very much everybody. \\nGod bless you. \\nThank you. \\n \\n'"
      ]
     },
     "execution_count": 85,
     "metadata": {},
     "output_type": "execute_result"
    }
   ],
   "source": [
    "# print first speech\n",
    "speeches.raw('file_1.txt')"
   ]
  }
 ],
 "metadata": {
  "hide_input": false,
  "kernelspec": {
   "display_name": "Python 3 (ipykernel)",
   "language": "python",
   "name": "python3"
  },
  "language_info": {
   "codemirror_mode": {
    "name": "ipython",
    "version": 3
   },
   "file_extension": ".py",
   "mimetype": "text/x-python",
   "name": "python",
   "nbconvert_exporter": "python",
   "pygments_lexer": "ipython3",
   "version": "3.9.5"
  },
  "toc": {
   "base_numbering": 1,
   "nav_menu": {},
   "number_sections": true,
   "sideBar": true,
   "skip_h1_title": false,
   "title_cell": "Table of Contents",
   "title_sidebar": "Contents",
   "toc_cell": false,
   "toc_position": {},
   "toc_section_display": true,
   "toc_window_display": false
  }
 },
 "nbformat": 4,
 "nbformat_minor": 5
}
