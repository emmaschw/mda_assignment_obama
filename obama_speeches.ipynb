{
 "cells": [
  {
   "cell_type": "markdown",
   "id": "cb5403d8",
   "metadata": {},
   "source": [
    "# Setup"
   ]
  },
  {
   "cell_type": "code",
   "execution_count": 1,
   "id": "16a7b611",
   "metadata": {},
   "outputs": [
    {
     "name": "stdout",
     "output_type": "stream",
     "text": [
      "Requirement already satisfied: requests in /Users/emma/.pyenv/versions/3.9.5/envs/mda_assignment/lib/python3.9/site-packages (2.27.1)\n",
      "Requirement already satisfied: openpyxl in /Users/emma/.pyenv/versions/3.9.5/envs/mda_assignment/lib/python3.9/site-packages (3.0.9)\n",
      "Requirement already satisfied: PyMuPDF in /Users/emma/.pyenv/versions/3.9.5/envs/mda_assignment/lib/python3.9/site-packages (1.19.6)\n",
      "Requirement already satisfied: pandas in /Users/emma/.pyenv/versions/3.9.5/envs/mda_assignment/lib/python3.9/site-packages (1.4.2)\n",
      "Requirement already satisfied: glob2 in /Users/emma/.pyenv/versions/3.9.5/envs/mda_assignment/lib/python3.9/site-packages (0.7)\n",
      "Requirement already satisfied: urllib3<1.27,>=1.21.1 in /Users/emma/.pyenv/versions/3.9.5/envs/mda_assignment/lib/python3.9/site-packages (from requests) (1.26.9)\n",
      "Requirement already satisfied: charset-normalizer~=2.0.0 in /Users/emma/.pyenv/versions/3.9.5/envs/mda_assignment/lib/python3.9/site-packages (from requests) (2.0.12)\n",
      "Requirement already satisfied: certifi>=2017.4.17 in /Users/emma/.pyenv/versions/3.9.5/envs/mda_assignment/lib/python3.9/site-packages (from requests) (2021.10.8)\n",
      "Requirement already satisfied: idna<4,>=2.5 in /Users/emma/.pyenv/versions/3.9.5/envs/mda_assignment/lib/python3.9/site-packages (from requests) (3.3)\n",
      "Requirement already satisfied: et-xmlfile in /Users/emma/.pyenv/versions/3.9.5/envs/mda_assignment/lib/python3.9/site-packages (from openpyxl) (1.1.0)\n",
      "Requirement already satisfied: python-dateutil>=2.8.1 in /Users/emma/.pyenv/versions/3.9.5/envs/mda_assignment/lib/python3.9/site-packages (from pandas) (2.8.2)\n",
      "Requirement already satisfied: pytz>=2020.1 in /Users/emma/.pyenv/versions/3.9.5/envs/mda_assignment/lib/python3.9/site-packages (from pandas) (2022.1)\n",
      "Requirement already satisfied: numpy>=1.18.5 in /Users/emma/.pyenv/versions/3.9.5/envs/mda_assignment/lib/python3.9/site-packages (from pandas) (1.22.2)\n",
      "Requirement already satisfied: six>=1.5 in /Users/emma/.pyenv/versions/3.9.5/envs/mda_assignment/lib/python3.9/site-packages (from python-dateutil>=2.8.1->pandas) (1.16.0)\n",
      "\u001b[33mWARNING: You are using pip version 21.1.1; however, version 22.0.4 is available.\n",
      "You should consider upgrading via the '/Users/emma/.pyenv/versions/3.9.5/envs/mda_assignment/bin/python3.9 -m pip install --upgrade pip' command.\u001b[0m\n"
     ]
    }
   ],
   "source": [
    "# This code chunk can be removed in the final notebook since the requirements.txt file lists all used packages!\n",
    "!pip install requests openpyxl PyMuPDF pandas glob2"
   ]
  },
  {
   "cell_type": "code",
   "execution_count": 246,
   "id": "26c2d9a4",
   "metadata": {},
   "outputs": [],
   "source": [
    "# accessing APIs and URLs\n",
    "import requests\n",
    "\n",
    "# static web scraping\n",
    "from urllib.request import urlopen\n",
    "from lxml.html import parse, fromstring\n",
    "\n",
    "# regular expressions\n",
    "import re\n",
    "\n",
    "# downloading files\n",
    "import urllib.request\n",
    "\n",
    "# operating system\n",
    "import os\n",
    "\n",
    "# looping through folder\n",
    "import glob\n",
    "\n",
    "# read pdfs\n",
    "import fitz \n",
    "\n",
    "# data wrangling\n",
    "import pandas as pd\n",
    "\n",
    "# disable warnings\n",
    "import warnings\n",
    "warnings.filterwarnings('ignore')"
   ]
  },
  {
   "cell_type": "markdown",
   "id": "a3cbe8b6",
   "metadata": {},
   "source": [
    "# Data Collection and Import"
   ]
  },
  {
   "cell_type": "code",
   "execution_count": 3,
   "id": "abe0671d",
   "metadata": {},
   "outputs": [],
   "source": [
    "# extract all links from website\n",
    "tree=parse(urlopen(\"https://www.americanrhetoric.com/barackobamaspeeches.htm\"))\n",
    "linkelements = tree.xpath(\"//a\")\n",
    "links = [e.attrib[\"href\"] for e in linkelements]"
   ]
  },
  {
   "cell_type": "code",
   "execution_count": 4,
   "id": "b2f83fb0",
   "metadata": {},
   "outputs": [
    {
     "data": {
      "text/plain": [
       "1417"
      ]
     },
     "execution_count": 4,
     "metadata": {},
     "output_type": "execute_result"
    }
   ],
   "source": [
    "len(links)"
   ]
  },
  {
   "cell_type": "code",
   "execution_count": 5,
   "id": "11274b3a",
   "metadata": {
    "scrolled": false
   },
   "outputs": [],
   "source": [
    "# only retain pdf links\n",
    "p = re.compile('.*pdf$')\n",
    "pdf_links = [ s for s in links if p.match(s) ]"
   ]
  },
  {
   "cell_type": "code",
   "execution_count": 6,
   "id": "054e8227",
   "metadata": {},
   "outputs": [
    {
     "data": {
      "text/plain": [
       "436"
      ]
     },
     "execution_count": 6,
     "metadata": {},
     "output_type": "execute_result"
    }
   ],
   "source": [
    "len(pdf_links)"
   ]
  },
  {
   "cell_type": "code",
   "execution_count": 7,
   "id": "d5b3106e",
   "metadata": {},
   "outputs": [],
   "source": [
    "# concetenate baseurl and path\n",
    "baseurl=\"https://www.americanrhetoric.com/\"\n",
    "full_pdf_links = [baseurl + link for link in pdf_links]"
   ]
  },
  {
   "cell_type": "code",
   "execution_count": 8,
   "id": "889ab6d8",
   "metadata": {},
   "outputs": [],
   "source": [
    "# create new folder\n",
    "os.makedirs(\"data\")"
   ]
  },
  {
   "cell_type": "code",
   "execution_count": 9,
   "id": "5fc1f802",
   "metadata": {},
   "outputs": [],
   "source": [
    "# download all pdf files\n",
    "i = 1\n",
    "for link in full_pdf_links:\n",
    "    x = \"data/file_\" + str(i) + \".pdf\"\n",
    "    urllib.request.urlretrieve(link, x)\n",
    "    i = i+1"
   ]
  },
  {
   "cell_type": "code",
   "execution_count": 261,
   "id": "8a9e883b",
   "metadata": {},
   "outputs": [],
   "source": [
    "# sort pdf files by name\n",
    "numbers = re.compile(r'(\\d+)')\n",
    "def numericalSort(value):\n",
    "    parts = numbers.split(value)\n",
    "    parts[1::2] = map(int, parts[1::2])\n",
    "    return parts\n",
    "\n",
    "filename_list = sorted(glob.glob(\"data/*.pdf\"), key=numericalSort)\n",
    "\n",
    "# create empty lists\n",
    "speech = []\n",
    "name = []\n",
    "\n",
    "# loop through all files\n",
    "for filename in filename_list:\n",
    "    with fitz.open(filename) as doc:\n",
    "        text = \"\"\n",
    "        for page in doc:\n",
    "            text += page.get_text()\n",
    "    speech.append(text)\n",
    "    file = re.search(r'file_\\d{1,3}', filename)\n",
    "    file = file.group()\n",
    "    name.append(file)\n",
    "\n",
    "# create pandas data frame\n",
    "d = {'speech': speech, 'filename': name}\n",
    "df = pd.DataFrame(data=d)"
   ]
  },
  {
   "cell_type": "code",
   "execution_count": 12,
   "id": "7c6823b8",
   "metadata": {},
   "outputs": [
    {
     "data": {
      "text/html": [
       "<div>\n",
       "<style scoped>\n",
       "    .dataframe tbody tr th:only-of-type {\n",
       "        vertical-align: middle;\n",
       "    }\n",
       "\n",
       "    .dataframe tbody tr th {\n",
       "        vertical-align: top;\n",
       "    }\n",
       "\n",
       "    .dataframe thead th {\n",
       "        text-align: right;\n",
       "    }\n",
       "</style>\n",
       "<table border=\"1\" class=\"dataframe\">\n",
       "  <thead>\n",
       "    <tr style=\"text-align: right;\">\n",
       "      <th></th>\n",
       "      <th>speech</th>\n",
       "      <th>filename</th>\n",
       "    </tr>\n",
       "  </thead>\n",
       "  <tbody>\n",
       "    <tr>\n",
       "      <th>0</th>\n",
       "      <td>\\nAAm\\nmeerriiccaannRRhheettoorriicc..ccoom\\...</td>\n",
       "      <td>file_1</td>\n",
       "    </tr>\n",
       "    <tr>\n",
       "      <th>1</th>\n",
       "      <td>\\nAAm\\nmeerriiccaannRRhheettoorriicc..ccoom\\...</td>\n",
       "      <td>file_2</td>\n",
       "    </tr>\n",
       "    <tr>\n",
       "      <th>2</th>\n",
       "      <td>\\nAAm\\nmeerriiccaannRRhheettoorriicc..ccoom\\...</td>\n",
       "      <td>file_3</td>\n",
       "    </tr>\n",
       "    <tr>\n",
       "      <th>3</th>\n",
       "      <td>\\nAAm\\nmeerriiccaannRRhheettoorriicc..ccoom\\...</td>\n",
       "      <td>file_4</td>\n",
       "    </tr>\n",
       "    <tr>\n",
       "      <th>4</th>\n",
       "      <td>\\nAAm\\nmeerriiccaannRRhheettoorriicc..ccoom\\...</td>\n",
       "      <td>file_5</td>\n",
       "    </tr>\n",
       "    <tr>\n",
       "      <th>...</th>\n",
       "      <td>...</td>\n",
       "      <td>...</td>\n",
       "    </tr>\n",
       "    <tr>\n",
       "      <th>431</th>\n",
       "      <td>\\nAAm\\nmeerriiccaannRRhheettoorriicc..ccoom\\...</td>\n",
       "      <td>file_432</td>\n",
       "    </tr>\n",
       "    <tr>\n",
       "      <th>432</th>\n",
       "      <td>\\nAAm\\nmeerriiccaannRRhheettoorriicc..ccoom\\...</td>\n",
       "      <td>file_433</td>\n",
       "    </tr>\n",
       "    <tr>\n",
       "      <th>433</th>\n",
       "      <td>\\nAAm\\nmeerriiccaannRRhheettoorriicc..ccoom\\...</td>\n",
       "      <td>file_434</td>\n",
       "    </tr>\n",
       "    <tr>\n",
       "      <th>434</th>\n",
       "      <td>\\nAAm\\nmeerriiccaannRRhheettoorriicc..ccoom\\...</td>\n",
       "      <td>file_435</td>\n",
       "    </tr>\n",
       "    <tr>\n",
       "      <th>435</th>\n",
       "      <td>\\nAAm\\nmeerriiccaannRRhheettoorriicc..ccoom\\...</td>\n",
       "      <td>file_436</td>\n",
       "    </tr>\n",
       "  </tbody>\n",
       "</table>\n",
       "<p>436 rows × 2 columns</p>\n",
       "</div>"
      ],
      "text/plain": [
       "                                                speech  filename\n",
       "0      \\nAAm\\nmeerriiccaannRRhheettoorriicc..ccoom\\...    file_1\n",
       "1      \\nAAm\\nmeerriiccaannRRhheettoorriicc..ccoom\\...    file_2\n",
       "2      \\nAAm\\nmeerriiccaannRRhheettoorriicc..ccoom\\...    file_3\n",
       "3      \\nAAm\\nmeerriiccaannRRhheettoorriicc..ccoom\\...    file_4\n",
       "4      \\nAAm\\nmeerriiccaannRRhheettoorriicc..ccoom\\...    file_5\n",
       "..                                                 ...       ...\n",
       "431    \\nAAm\\nmeerriiccaannRRhheettoorriicc..ccoom\\...  file_432\n",
       "432    \\nAAm\\nmeerriiccaannRRhheettoorriicc..ccoom\\...  file_433\n",
       "433    \\nAAm\\nmeerriiccaannRRhheettoorriicc..ccoom\\...  file_434\n",
       "434    \\nAAm\\nmeerriiccaannRRhheettoorriicc..ccoom\\...  file_435\n",
       "435    \\nAAm\\nmeerriiccaannRRhheettoorriicc..ccoom\\...  file_436\n",
       "\n",
       "[436 rows x 2 columns]"
      ]
     },
     "execution_count": 12,
     "metadata": {},
     "output_type": "execute_result"
    }
   ],
   "source": [
    "df"
   ]
  },
  {
   "cell_type": "markdown",
   "id": "95b1cfb0",
   "metadata": {},
   "source": [
    "# Data Pre-Processing"
   ]
  },
  {
   "cell_type": "code",
   "execution_count": 336,
   "id": "8c226a99",
   "metadata": {},
   "outputs": [],
   "source": [
    "df_clean = df.copy()"
   ]
  },
  {
   "cell_type": "code",
   "execution_count": 337,
   "id": "bed1524b",
   "metadata": {},
   "outputs": [],
   "source": [
    "# separate line breaks from words\n",
    "p1 = re.compile(r'(\\n)([A-Za-z\\\\[])')\n",
    "df_clean['speech'] = df_clean.speech.str.replace(p1, r\"\\1 \\2\")\n",
    "\n",
    "p2 = re.compile(r'([A-Za-z])(\\n)')\n",
    "df_clean['speech'] = df_clean.speech.str.replace(p2, r\"\\1 \\2\")"
   ]
  },
  {
   "cell_type": "code",
   "execution_count": 338,
   "id": "2510f9d5",
   "metadata": {},
   "outputs": [],
   "source": [
    "# remove footer\n",
    "df_clean['speech'] = df_clean.speech.str.replace('(AAm|AmericanRhetoric\\.com)\\s((.||\\n)*?)\\sPage\\s\\d', '')"
   ]
  },
  {
   "cell_type": "code",
   "execution_count": 339,
   "id": "8b87a018",
   "metadata": {},
   "outputs": [],
   "source": [
    "# remove everything up until (and including) the statement about transcription\n",
    "df_clean['speech'] = df_clean.speech.str.replace('^((.|\\n)*)\\s(AUTHENTICITY)\\s.*\\s\\n', '')"
   ]
  },
  {
   "cell_type": "code",
   "execution_count": 340,
   "id": "00179aaf",
   "metadata": {},
   "outputs": [],
   "source": [
    "# remove line breaks\n",
    "df_clean['speech'] = df_clean.speech.str.replace('\\n', '')"
   ]
  },
  {
   "cell_type": "code",
   "execution_count": 342,
   "id": "22527c6d",
   "metadata": {},
   "outputs": [],
   "source": [
    "# remove punctuation and special characters\n",
    "df_clean['speech'] = df_clean.speech.str.replace('[^a-zA-Z\\d\\s\\']', '')"
   ]
  },
  {
   "cell_type": "code",
   "execution_count": 347,
   "id": "4513443b",
   "metadata": {},
   "outputs": [
    {
     "name": "stdout",
     "output_type": "stream",
     "text": [
      "                                                                                                                                                                                                                                                                                                                                                                                                                                                                                                                                                                                                                                                                                                                                                                                                                                                                                                                                                                                                                                                                                                                                                                                                                                                                                                                                                                                                                                                                                                                                                                                                                                                                                                                                                                                                                                                                                                                                                                                                                                                                                                                                                                                                                                                                                                                                                                                                                                                                                                                                                                                                                                                                                                                                                                                                                                                                                                                                                                                                                                                                                                                                                                                                                                                                                                                                                                                                                                                                                                                                                                                                                                                                                                                                                                                                                                                                                                                                                                                                                                                                                                                                                                                                                                                                                                                                                                                                                                                                                                                                                                                                                                                                                                                                                                                                                                                                                                                                                                                                                                                                                                                                                                                                                                                                                                                                                                                                                                                                                                                                                                                                                                                                                                                                                                                                                                                                                                                                                                                                                                                                                                                                                                                                                                                                                                                                                                                                                                                                                                                                                                                                                                                                                                                                                                                                                                                                                                                                                                                                                                                                                                                                                                                                                                                                                                                                                                                                                                                                                                                                                                                                                                                                                                                                                                                                                                                                                                                                                                                                                                                                                                                                                                                                                                                                                                                                                                                                                                                                                                                                                                                                                                                                                                                                                                                                                                                                                                                                                                                                                                                                                                                                                                                                                                                                                                                                                                                                                                                                                                                                                                                                                                                                                                                                                                                                                                                                                                                                                                                                                                                                                                                                                                                                                                                                                                                                                                                                                                                                                                                                                                                                                                                                                                                                                                                                                                                                                                                                                                                                                                                                                                                                                                                                                                                                                                                                                                                                                                                                                                                                                                                                                                                                                                                                                                                                                                                                                                                                                                                                                                                                                                                                                                                                                                                                                                                                                                                                                                                                                                                                                                                                                                                                                                                                                                                                    speech  \\\n",
      "0   On behalf of the great state of Illinois crossroads of a nation Land of Lincoln let me express  my deepest gratitude for the privilege of addressing this convention  Tonight is a particular honor for me because lets face it my presence on this stage is pretty  unlikely My father was a foreign student born and raised in a small village in Kenya He grew  up herding goats went to school in a tinroof shack His father  my grandfather  was a  cook a domestic servant to the British  But my grandfather had larger dreams for his son Through hard work and perseverance my  father got a scholarship to study in a magical place America that shone as a beacon of  freedom and opportunity to so many who had come before  While studying here my father met my mother She was born in a town on the other side of  the world in Kansas Her father worked on oil rigs and farms through most of the Depression  The day after Pearl Harbor my grandfather signed up for duty joined Pattons army marched  across Europe Back home my grandmother raised a baby and went to work on a bomber  assembly line After the war they studied on the GI Bill bought a house through FHA and  later moved west all the way to Hawaii in search of opportunity      And they too had big dreams for their daughter A common dream born of two continents  My parents shared not only an improbable love they shared an abiding faith in the  possibilities of this nation They would give me an African name Barack or blessed  believing that in a tolerant America your name is no barrier to success They imagined  They  imagined me going to the best schools in the land even though they werent rich because in  a generous America you dont have to be rich to achieve your potential  They're both passed away now And yet I know that on this night they look down on me with  great pride  They stand here and I stand here today grateful for the diversity of my heritage aware that  my parents dreams live on in my two precious daughters I stand here knowing that my story  is part of the larger American story that I owe a debt to all of those who came before me  and that in no other country on earth is my story even possible  Tonight we gather to affirm the greatness of our Nation  not because of the height of our  skyscrapers or the power of our military or the size of our economy Our pride is based on a  very simple premise summed up in a declaration made over two hundred years ago   We hold these truths to be selfevident that all men are created equal that they are  endowed by their Creator with certain inalienable rights that among these are Life  Liberty and the pursuit of Happiness  That is the true genius of America a faith  a faith in simple dreams an insistence on small  miracles that we can tuck in our children at night and know that they are fed and clothed and  safe from harm that we can say what we think write what we think without hearing a  sudden knock on the door that we can have an idea and start our own business without  paying a bribe that we can participate in the political process without fear of retribution and  that our votes will be counted  at least most of the time  This year in this election we are called to reaffirm our values and our commitments to hold  them against a hard reality and see how we're measuring up to the legacy of our forbearers  and the promise of future generations  And fellow Americans Democrats Republicans Independents I say to you tonight We have  more work to do   more work to do for the workers I met in Galesburg Illinois who are  losing their union jobs at the Maytag plant thats moving to Mexico and now are having to  compete with their own children for jobs that pay seven bucks an hour more to do for the      father that I met who was losing his job and choking back the tears wondering how he would  pay 4500 dollars a month for the drugs his son needs without the health benefits that he  counted on more to do for the young woman in East St Louis and thousands more like her  who has the grades has the drive has the will but doesnt have the money to go to college  Now dont get me wrong The people I meet  in small towns and big cities in diners and  office parks  they dont expect government to solve all their problems They know they have  to work hard to get ahead  and they want to Go into the collar counties around Chicago and  people will tell you they dont want their tax money wasted by a welfare agency or by the  Pentagon Go in  Go into any inner city neighborhood and folks will tell you that  government alone cant teach our kids to learn they know that parents have to teach that  children cant achieve unless we raise their expectations and turn off the television sets and  eradicate the slander that says a black youth with a book is acting white They know those  things  People dont expect  People don't expect government to solve all their problems But they  sense deep in their bones that with just a slight change in priorities we can make sure that  every child in America has a decent shot at life and that the doors of opportunity remain open  to all  They know we can do better And they want that choice  In this election we offer that choice Our Party has chosen a man to lead us who embodies  the best this country has to offer And that man is John Kerry  John Kerry understands the ideals of community faith and service because theyve defined  his life From his heroic service to Vietnam to his years as a prosecutor and lieutenant  governor through two decades in the United States Senate he's devoted himself to this  country Again and again weve seen him make tough choices when easier ones were  available  His values and his record affirm what is best in us John Kerry believes in an America where  hard work is rewarded so instead of offering tax breaks to companies shipping jobs overseas  he offers them to companies creating jobs here at home  John Kerry believes in an America where all Americans can afford the same health coverage  our politicians in Washington have for themselves      John Kerry believes in energy independence so we arent held hostage to the profits of oil  companies or the sabotage of foreign oil fields  John Kerry believes in the Constitutional freedoms that have made our country the envy of  the world and he will never sacrifice our basic liberties nor use faith as a wedge to divide us  And John Kerry believes that in a dangerous world war must be an option sometimes but it  should never be the first option  You know a while back  awhile back I met a young man named Shamus in a VFW Hall in  East Moline Illinois He was a goodlooking kid  six two six three clear eyed with an easy  smile He told me hed joined the Marines and was heading to Iraq the following week And as  I listened to him explain why hed enlisted the absolute faith he had in our country and its  leaders his devotion to duty and service I thought this young man was all that any of us  might ever hope for in a child  But then I asked myself Are we serving Shamus as well as he is serving us  I thought of the 900 men and women  sons and daughters husbands and wives friends and  neighbors who wont be returning to their own hometowns I thought of the families Ive met  who were struggling to get by without a loved ones full income or whose loved ones had  returned with a limb missing or nerves shattered but still lacked longterm health benefits  because they were Reservists  When we send our young men and women into harms way we have a solemn obligation not  to fudge the numbers or shade the truth about why theyre going to care for their families  while theyre gone to tend to the soldiers upon their return and to never ever go to war  without enough troops to win the war secure the peace and earn the respect of the world  Now  Now let me be clear Let me be clear We have real enemies in the world These  enemies must be found They must be pursued And they must be defeated John Kerry knows  this And just as Lieutenant Kerry did not hesitate to risk his life to protect the men who  served with him in Vietnam President Kerry will not hesitate one moment to use our military  might to keep America safe and secure  John Kerry believes in America And he knows that its not enough for just some of us to  prosper  for alongside our famous individualism theres another ingredient in the American  saga  a belief that were all connected as one people If there is a child on the south side of  Chicago who cant read that matters to me even if its not my child      If there is a senior citizen somewhere who cant pay for their prescription drugs and having to  choose between medicine and the rent that makes my life poorer even if its not my  grandparent If theres an Arab American family being rounded up without benefit of an  attorney or due process that threatens my civil liberties  It is that fundamental belief  It is that fundamental belief I am my brothers keeper I am  my sisters keeper that makes this country work Its what allows us to pursue our individual  dreams and yet still come together as one American family  E pluribus unum Out of many one  Now even as we speak there are those who are preparing to divide us  the spin masters  the negative ad peddlers who embrace the politics of anything goes Well I say to them  tonight there is not a liberal America and a conservative America  there is the United States  of America There is not a Black America and a White America and Latino America and Asian  America  theres the United States of America  The pundits the pundits like to sliceanddice our country into red states and blue states red  states for Republicans blue states for Democrats But Ive got news for them too We  worship an awesome God in the blue states and we dont like federal agents poking around in  our libraries in the red states We coach Little League in the blue states and yes weve got  some gay friends in the red states There are patriots who opposed the war in Iraq and there  are patriots who supported the war in Iraq We are one people all of us pledging allegiance to  the stars and stripes all of us defending the United States of America  In the end  In the end  In the end thats what this election is about Do we participate in a  politics of cynicism or do we participate in a politics of hope  John Kerry calls on us to hope John Edwards calls on us to hope  Im not talking about blind optimism here  the almost willful ignorance that thinks  unemployment will go away if we just dont think about it or the health care crisis will solve  itself if we just ignore it Thats not what Im talking about Im talking about something more  substantial Its the hope of slaves sitting around a fire singing freedom songs the hope of  immigrants setting out for distant shores the hope of a young naval lieutenant bravely  patrolling the Mekong Delta the hope of a millworkers son who dares to defy the odds the  hope of a skinny kid with a funny name who believes that America has a place for him too  Hope  Hope in the face of difficulty Hope in the face of uncertainty The audacity of hope      In the end that is Gods greatest gift to us the bedrock of this nation A belief in things not  seen A belief that there are better days ahead  I believe that we can give our middle class relief and provide working families with a road to  opportunity  I believe we can provide jobs to the jobless homes to the homeless and reclaim young  people in cities across America from violence and despair  I believe that we have a righteous wind at our backs and that as we stand on the crossroads  of history we can make the right choices and meet the challenges that face us  America Tonight if you feel the same energy that I do if you feel the same urgency that I  do if you feel the same passion that I do if you feel the same hopefulness that I do  if we  do what we must do then I have no doubt that all across the country from Florida to Oregon  from Washington to Maine the people will rise up in November and John Kerry will be sworn  in as President and John Edwards will be sworn in as Vice President and this country will  reclaim its promise and out of this long political darkness a brighter day will come  Thank you very much everybody  God bless you  Thank you     \n",
      "\n",
      "  filename  \n",
      "0   file_1  \n"
     ]
    }
   ],
   "source": [
    "# REMOVE FOR FINAL PROJECT\n",
    "\n",
    "# view cleaned speeches\n",
    "pd.set_option('display.max_colwidth', None)\n",
    "print(df_clean.loc[[0]])"
   ]
  },
  {
   "cell_type": "code",
   "execution_count": 333,
   "id": "ee3b4985",
   "metadata": {},
   "outputs": [],
   "source": [
    "# REMOVE FOR FINAL PROJECT\n",
    "\n",
    "# reset settings\n",
    "pd.reset_option('^display.', silent=True)"
   ]
  },
  {
   "cell_type": "code",
   "execution_count": null,
   "id": "01da2835",
   "metadata": {},
   "outputs": [],
   "source": []
  },
  {
   "cell_type": "code",
   "execution_count": null,
   "id": "160141fd",
   "metadata": {},
   "outputs": [],
   "source": []
  },
  {
   "cell_type": "code",
   "execution_count": null,
   "id": "ac6c6260",
   "metadata": {},
   "outputs": [],
   "source": []
  },
  {
   "cell_type": "code",
   "execution_count": null,
   "id": "3f425072",
   "metadata": {},
   "outputs": [],
   "source": []
  }
 ],
 "metadata": {
  "hide_input": false,
  "kernelspec": {
   "display_name": "Python 3 (ipykernel)",
   "language": "python",
   "name": "python3"
  },
  "language_info": {
   "codemirror_mode": {
    "name": "ipython",
    "version": 3
   },
   "file_extension": ".py",
   "mimetype": "text/x-python",
   "name": "python",
   "nbconvert_exporter": "python",
   "pygments_lexer": "ipython3",
   "version": "3.9.5"
  },
  "toc": {
   "base_numbering": 1,
   "nav_menu": {},
   "number_sections": true,
   "sideBar": true,
   "skip_h1_title": false,
   "title_cell": "Table of Contents",
   "title_sidebar": "Contents",
   "toc_cell": false,
   "toc_position": {},
   "toc_section_display": true,
   "toc_window_display": true
  }
 },
 "nbformat": 4,
 "nbformat_minor": 5
}
