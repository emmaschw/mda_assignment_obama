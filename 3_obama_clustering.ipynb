{
 "cells": [
  {
   "cell_type": "markdown",
   "id": "1db71607",
   "metadata": {},
   "source": [
    "# Setup"
   ]
  },
  {
   "cell_type": "code",
   "execution_count": 1,
   "id": "2f466360",
   "metadata": {},
   "outputs": [],
   "source": [
    "# set up \n",
    "import pandas as pd\n",
    "\n",
    "# text analysis \n",
    "from sklearn.feature_extraction.text import TfidfVectorizer\n",
    "from sklearn.cluster import KMeans\n",
    "from kneed import KneeLocator\n",
    "\n",
    "# visualization\n",
    "%matplotlib inline\n",
    "import matplotlib.pyplot as plt\n",
    "from wordcloud import WordCloud"
   ]
  },
  {
   "cell_type": "code",
   "execution_count": 2,
   "id": "366b9083",
   "metadata": {},
   "outputs": [],
   "source": [
    "# import speeches and read them in as list\n",
    "speeches = []\n",
    "with open('output/cleaned_speeches.txt', 'r') as file:\n",
    "    for text in file:\n",
    "        speech = text[:-1] # remove line break after each speech\n",
    "        speeches.append(speech)"
   ]
  },
  {
   "cell_type": "markdown",
   "id": "4c03cae1",
   "metadata": {},
   "source": [
    "# Clustering"
   ]
  },
  {
   "cell_type": "code",
   "execution_count": 3,
   "id": "9ff1c22c",
   "metadata": {},
   "outputs": [],
   "source": [
    "# instantiate the vectorizer object\n",
    "vectorizer = TfidfVectorizer()\n",
    "\n",
    "# create document-term matrix\n",
    "vectors = vectorizer.fit_transform(speeches)\n",
    "\n",
    "# get vocabulary\n",
    "vocab = vectorizer.get_feature_names_out()"
   ]
  },
  {
   "cell_type": "markdown",
   "id": "7796dfbf",
   "metadata": {},
   "source": [
    "## Determination of the Number of Clusters"
   ]
  },
  {
   "cell_type": "code",
   "execution_count": 4,
   "id": "8f34ed3e",
   "metadata": {},
   "outputs": [],
   "source": [
    "# calculate sum of squared errors between centroid and cluster members\n",
    "sse = []\n",
    "for k in range(1,11):\n",
    "    kmeans = KMeans(n_clusters = k, \n",
    "                   init = \"random\",\n",
    "                   n_init = 10,\n",
    "                   max_iter = 100,\n",
    "                   random_state = 42)\n",
    "    kmeans.fit(vectors)\n",
    "    sse.append(kmeans.inertia_)\n",
    "\n",
    "# compute elbow\n",
    "k1 = KneeLocator(range(1, 11), sse, curve = \"convex\", direction = \"decreasing\")"
   ]
  },
  {
   "cell_type": "code",
   "execution_count": 5,
   "id": "1a814322",
   "metadata": {},
   "outputs": [
    {
     "name": "stdout",
     "output_type": "stream",
     "text": [
      "Optimal number of clusters: 3\n"
     ]
    }
   ],
   "source": [
    "print(\"Optimal number of clusters: \" + str(k1.elbow))"
   ]
  },
  {
   "cell_type": "code",
   "execution_count": 6,
   "id": "901c3072",
   "metadata": {},
   "outputs": [
    {
     "data": {
      "image/png": "[encoded data removed]",
      "text/plain": [
       "<Figure size 1008x504 with 1 Axes>"
      ]
     },
     "metadata": {
      "needs_background": "light"
     },
     "output_type": "display_data"
    }
   ],
   "source": [
    "# plot intertia plot\n",
    "plt.rcParams['figure.figsize'] = [14, 7]\n",
    "plt.plot(range(1,11), sse)\n",
    "plt.xticks(range(1,11))\n",
    "plt.xlabel(\"Number of Clusters\", fontsize = 20)\n",
    "plt.ylabel(\"SSE\", fontsize = 20)\n",
    "plt.title('Inertia Plot', fontsize = 25, pad = 20)\n",
    "plt.show()"
   ]
  },
  {
   "cell_type": "markdown",
   "id": "844a740b",
   "metadata": {},
   "source": [
    "## K-Means Clustering"
   ]
  },
  {
   "cell_type": "code",
   "execution_count": 7,
   "id": "6114977a",
   "metadata": {},
   "outputs": [
    {
     "data": {
      "text/plain": [
       "KMeans(init='random', max_iter=100, n_clusters=3, random_state=42)"
      ]
     },
     "execution_count": 7,
     "metadata": {},
     "output_type": "execute_result"
    }
   ],
   "source": [
    "# define kmeans model\n",
    "number_clusters = 3\n",
    "model = KMeans(n_clusters =  number_clusters, init = \"random\", max_iter = 100, n_init = 10, random_state = 42)\n",
    "\n",
    "# apply model to data\n",
    "model.fit(vectors)"
   ]
  },
  {
   "cell_type": "code",
   "execution_count": 9,
   "id": "9c052c8d",
   "metadata": {},
   "outputs": [
    {
     "name": "stdout",
     "output_type": "stream",
     "text": [
      "topic: future\n",
      "keywords: life, family, day, love, child, man, great, veteran, change, faith, stand, war, let, thing, young\n",
      "\n",
      "topic: defence\n",
      "keywords: isil, security, question, government, region, military, continue, war, peace, force, syria, support, international, united_state, issue\n",
      "\n",
      "topic: finance\n",
      "keywords: economy, pay, business, plan, thing, bill, reform, deficit, company, cost, sure, government, cut, create, question\n",
      "\n"
     ]
    }
   ],
   "source": [
    "# assign cluster names\n",
    "cluster_names = ['future', 'defence', 'finance']\n",
    "\n",
    "# sort terms in each cluster by frequency\n",
    "order_centroids = model.cluster_centers_.argsort()[:, ::-1]\n",
    "\n",
    "# print clusters with top 15 keywords\n",
    "i = 0\n",
    "for cluster in order_centroids:\n",
    "    print (\"topic: \" +  cluster_names[i])\n",
    "    print (\"keywords:\", end = ' ')\n",
    "    x = 1\n",
    "    for keyword in cluster[0:15]:\n",
    "        if x < 15:\n",
    "            print (vocab[keyword], end = ', ')\n",
    "            x = x + 1\n",
    "        else: print (vocab[keyword] + \"\\n\")\n",
    "    i = i + 1"
   ]
  },
  {
   "cell_type": "code",
   "execution_count": null,
   "id": "528c6939",
   "metadata": {},
   "outputs": [],
   "source": []
  }
 ],
 "metadata": {
  "hide_input": false,
  "interpreter": {
   "hash": "3cc2746fb6b6552d23416a1edc22575f6047b0123ce56c9475fa42924e473e96"
  },
  "kernelspec": {
   "display_name": "Python 3.9.12 ('base')",
   "language": "python",
   "name": "python3"
  },
  "language_info": {
   "codemirror_mode": {
    "name": "ipython",
    "version": 3
   },
   "file_extension": ".py",
   "mimetype": "text/x-python",
   "name": "python",
   "nbconvert_exporter": "python",
   "pygments_lexer": "ipython3",
   "version": "3.9.12"
  },
  "latex_envs": {
   "LaTeX_envs_menu_present": true,
   "autoclose": false,
   "autocomplete": true,
   "bibliofile": "biblio.bib",
   "cite_by": "apalike",
   "current_citInitial": 1,
   "eqLabelWithNumbers": true,
   "eqNumInitial": 1,
   "hotkeys": {
    "equation": "Ctrl-E",
    "itemize": "Ctrl-I"
   },
   "labels_anchors": false,
   "latex_user_defs": false,
   "report_style_numbering": false,
   "user_envs_cfg": false
  },
  "toc": {
   "base_numbering": 1,
   "nav_menu": {},
   "number_sections": true,
   "sideBar": true,
   "skip_h1_title": false,
   "title_cell": "Table of Contents",
   "title_sidebar": "Contents",
   "toc_cell": false,
   "toc_position": {},
   "toc_section_display": true,
   "toc_window_display": true
  }
 },
 "nbformat": 4,
 "nbformat_minor": 5
}
