{
 "cells": [
  {
   "cell_type": "markdown",
   "id": "edd885af",
   "metadata": {},
   "source": [
    "# Setup"
   ]
  },
  {
   "cell_type": "code",
   "execution_count": 1,
   "id": "ae8fea73",
   "metadata": {},
   "outputs": [],
   "source": [
    "# accessing APIs and URLs\n",
    "import requests\n",
    "\n",
    "# static web scraping\n",
    "from urllib.request import urlopen\n",
    "from lxml.html import parse, fromstring\n",
    "\n",
    "# regular expressions\n",
    "import re\n",
    "\n",
    "# downloading files\n",
    "import urllib.request\n",
    "\n",
    "# operating system\n",
    "import os\n",
    "\n",
    "# looping through folder\n",
    "import glob\n",
    "\n",
    "# read pdfs\n",
    "import fitz \n",
    "\n",
    "# data wrangling\n",
    "import pandas as pd"
   ]
  },
  {
   "cell_type": "markdown",
   "id": "4a434111",
   "metadata": {},
   "source": [
    "# Data Collection"
   ]
  },
  {
   "cell_type": "code",
   "execution_count": 2,
   "id": "87fc2841",
   "metadata": {},
   "outputs": [],
   "source": [
    "# extract all links from website\n",
    "tree = parse(urlopen(\"https://www.americanrhetoric.com/barackobamaspeeches.htm\"))\n",
    "linkelements = tree.xpath(\"//a\")\n",
    "list_links = [e.attrib[\"href\"] for e in linkelements]"
   ]
  },
  {
   "cell_type": "code",
   "execution_count": 3,
   "id": "f0833bfd",
   "metadata": {},
   "outputs": [
    {
     "name": "stdout",
     "output_type": "stream",
     "text": [
      "Number of links: 1417\n"
     ]
    }
   ],
   "source": [
    "print(\"Number of links: \" + str(len(list_links)))"
   ]
  },
  {
   "cell_type": "code",
   "execution_count": 4,
   "id": "a3a5d0d5",
   "metadata": {},
   "outputs": [],
   "source": [
    "# only retain pdf links\n",
    "p = re.compile('.*pdf$')\n",
    "pdf_links = [ s for s in list_links if p.match(s) ]"
   ]
  },
  {
   "cell_type": "code",
   "execution_count": 5,
   "id": "092dc95a",
   "metadata": {},
   "outputs": [
    {
     "name": "stdout",
     "output_type": "stream",
     "text": [
      "Number of pdf links: 436\n"
     ]
    }
   ],
   "source": [
    "print(\"Number of pdf links: \" + str(len(pdf_links)))"
   ]
  },
  {
   "cell_type": "code",
   "execution_count": 6,
   "id": "e76f6cc0",
   "metadata": {},
   "outputs": [],
   "source": [
    "# concetenate baseurl and path\n",
    "baseurl=\"https://www.americanrhetoric.com/\"\n",
    "full_pdf_links = [baseurl + link for link in pdf_links]"
   ]
  },
  {
   "cell_type": "code",
   "execution_count": 7,
   "id": "2b88d503",
   "metadata": {},
   "outputs": [],
   "source": [
    "# create new folder\n",
    "folder_name = \"obama_speeches\"\n",
    "os.makedirs(folder_name, exist_ok = True)"
   ]
  },
  {
   "cell_type": "code",
   "execution_count": 8,
   "id": "12072552",
   "metadata": {},
   "outputs": [],
   "source": [
    "# download all pdf files\n",
    "def download_files(links, folder):\n",
    "    i = 1\n",
    "    for link in links:\n",
    "        filename = folder + \"/file_\" + str(i) + \".pdf\"\n",
    "        \n",
    "        # check if file already exists and, if so, continue\n",
    "        if os.path.isfile(filename):\n",
    "            continue\n",
    "            \n",
    "        # otherwise download file and save in folder\n",
    "        else: \n",
    "            urllib.request.urlretrieve(link, filename)\n",
    "        \n",
    "        i = i + 1"
   ]
  },
  {
   "cell_type": "code",
   "execution_count": 9,
   "id": "7c8d6add",
   "metadata": {},
   "outputs": [],
   "source": [
    "download_files(full_pdf_links, folder_name)"
   ]
  },
  {
   "cell_type": "markdown",
   "id": "2b060aa3",
   "metadata": {},
   "source": [
    "# Data Import"
   ]
  },
  {
   "cell_type": "code",
   "execution_count": 10,
   "id": "5b215d02",
   "metadata": {},
   "outputs": [],
   "source": [
    "# import files\n",
    "def import_pdfs(folder):\n",
    "    \n",
    "    # sort pdf files by name\n",
    "    numbers = re.compile(r'(\\d+)')\n",
    "    def numericalSort(value):\n",
    "        parts = numbers.split(value)\n",
    "        parts[1::2] = map(int, parts[1::2])\n",
    "        return parts\n",
    "    filename_list = sorted(glob.glob(folder + \"/*.pdf\"), key = numericalSort)\n",
    "    \n",
    "    # create empty list\n",
    "    speech = []\n",
    "    \n",
    "    # loop through all files\n",
    "    for filename in filename_list:\n",
    "        with fitz.open(filename) as doc:\n",
    "            text = \"\"\n",
    "            for page in doc:\n",
    "                text += page.get_text()\n",
    "        speech.append(text)\n",
    "        \n",
    "    return speech"
   ]
  },
  {
   "cell_type": "code",
   "execution_count": 11,
   "id": "04bd4b4f",
   "metadata": {},
   "outputs": [],
   "source": [
    "list_speeches = import_pdfs(folder_name)"
   ]
  },
  {
   "cell_type": "code",
   "execution_count": 12,
   "id": "f662f57b",
   "metadata": {},
   "outputs": [],
   "source": [
    "# get file names\n",
    "name = []\n",
    "for i in range(len(pdf_links) ):\n",
    "               index = \"file_\" + str(i + 1)\n",
    "               name.append(index)\n",
    "            \n",
    "# create pandas data frame with file names as index\n",
    "d = {'speech': list_speeches}\n",
    "df = pd.DataFrame(data = d, index = name)\n",
    "\n",
    "# extract dates of speeches\n",
    "date_reg = r'(\\d{1,2}\\s{1,2}[a-zA-Z]{3,9},?\\s?\\d{4}?)'\n",
    "df['date'] = df['speech'].str.extract(date_reg, expand = False)\n",
    "\n",
    "# manually fix dates that were not picked up by regex\n",
    "df.at['file_271', 'date'] = '2014-07-18'\n",
    "df.at['file_329', 'date'] = '2015-07-15'\n",
    "df.at['file_377', 'date'] = '2016-02-26'\n",
    "df['date'] = pd.to_datetime(df['date'])"
   ]
  },
  {
   "cell_type": "code",
   "execution_count": 13,
   "id": "927a09c6",
   "metadata": {},
   "outputs": [
    {
     "data": {
      "text/html": [
       "<div>\n",
       "<style scoped>\n",
       "    .dataframe tbody tr th:only-of-type {\n",
       "        vertical-align: middle;\n",
       "    }\n",
       "\n",
       "    .dataframe tbody tr th {\n",
       "        vertical-align: top;\n",
       "    }\n",
       "\n",
       "    .dataframe thead th {\n",
       "        text-align: right;\n",
       "    }\n",
       "</style>\n",
       "<table border=\"1\" class=\"dataframe\">\n",
       "  <thead>\n",
       "    <tr style=\"text-align: right;\">\n",
       "      <th></th>\n",
       "      <th>speech</th>\n",
       "      <th>date</th>\n",
       "    </tr>\n",
       "  </thead>\n",
       "  <tbody>\n",
       "    <tr>\n",
       "      <th>file_1</th>\n",
       "      <td>\\nAAm\\nmeerriiccaannRRhheettoorriicc..ccoom\\...</td>\n",
       "      <td>2004-07-27</td>\n",
       "    </tr>\n",
       "    <tr>\n",
       "      <th>file_2</th>\n",
       "      <td>\\nAAm\\nmeerriiccaannRRhheettoorriicc..ccoom\\...</td>\n",
       "      <td>2005-01-06</td>\n",
       "    </tr>\n",
       "    <tr>\n",
       "      <th>file_3</th>\n",
       "      <td>\\nAAm\\nmeerriiccaannRRhheettoorriicc..ccoom\\...</td>\n",
       "      <td>2005-06-04</td>\n",
       "    </tr>\n",
       "    <tr>\n",
       "      <th>file_4</th>\n",
       "      <td>\\nAAm\\nmeerriiccaannRRhheettoorriicc..ccoom\\...</td>\n",
       "      <td>2005-10-25</td>\n",
       "    </tr>\n",
       "    <tr>\n",
       "      <th>file_5</th>\n",
       "      <td>\\nAAm\\nmeerriiccaannRRhheettoorriicc..ccoom\\...</td>\n",
       "      <td>2005-12-15</td>\n",
       "    </tr>\n",
       "    <tr>\n",
       "      <th>...</th>\n",
       "      <td>...</td>\n",
       "      <td>...</td>\n",
       "    </tr>\n",
       "    <tr>\n",
       "      <th>file_432</th>\n",
       "      <td>\\nAAm\\nmeerriiccaannRRhheettoorriicc..ccoom\\...</td>\n",
       "      <td>2017-01-10</td>\n",
       "    </tr>\n",
       "    <tr>\n",
       "      <th>file_433</th>\n",
       "      <td>\\nAAm\\nmeerriiccaannRRhheettoorriicc..ccoom\\...</td>\n",
       "      <td>2017-01-12</td>\n",
       "    </tr>\n",
       "    <tr>\n",
       "      <th>file_434</th>\n",
       "      <td>\\nAAm\\nmeerriiccaannRRhheettoorriicc..ccoom\\...</td>\n",
       "      <td>2017-01-17</td>\n",
       "    </tr>\n",
       "    <tr>\n",
       "      <th>file_435</th>\n",
       "      <td>\\nAAm\\nmeerriiccaannRRhheettoorriicc..ccoom\\...</td>\n",
       "      <td>2017-01-18</td>\n",
       "    </tr>\n",
       "    <tr>\n",
       "      <th>file_436</th>\n",
       "      <td>\\nAAm\\nmeerriiccaannRRhheettoorriicc..ccoom\\...</td>\n",
       "      <td>2017-01-20</td>\n",
       "    </tr>\n",
       "  </tbody>\n",
       "</table>\n",
       "<p>436 rows × 2 columns</p>\n",
       "</div>"
      ],
      "text/plain": [
       "                                                     speech       date\n",
       "file_1      \\nAAm\\nmeerriiccaannRRhheettoorriicc..ccoom\\... 2004-07-27\n",
       "file_2      \\nAAm\\nmeerriiccaannRRhheettoorriicc..ccoom\\... 2005-01-06\n",
       "file_3      \\nAAm\\nmeerriiccaannRRhheettoorriicc..ccoom\\... 2005-06-04\n",
       "file_4      \\nAAm\\nmeerriiccaannRRhheettoorriicc..ccoom\\... 2005-10-25\n",
       "file_5      \\nAAm\\nmeerriiccaannRRhheettoorriicc..ccoom\\... 2005-12-15\n",
       "...                                                     ...        ...\n",
       "file_432    \\nAAm\\nmeerriiccaannRRhheettoorriicc..ccoom\\... 2017-01-10\n",
       "file_433    \\nAAm\\nmeerriiccaannRRhheettoorriicc..ccoom\\... 2017-01-12\n",
       "file_434    \\nAAm\\nmeerriiccaannRRhheettoorriicc..ccoom\\... 2017-01-17\n",
       "file_435    \\nAAm\\nmeerriiccaannRRhheettoorriicc..ccoom\\... 2017-01-18\n",
       "file_436    \\nAAm\\nmeerriiccaannRRhheettoorriicc..ccoom\\... 2017-01-20\n",
       "\n",
       "[436 rows x 2 columns]"
      ]
     },
     "execution_count": 13,
     "metadata": {},
     "output_type": "execute_result"
    }
   ],
   "source": [
    "df"
   ]
  },
  {
   "cell_type": "code",
   "execution_count": 14,
   "id": "badc8891",
   "metadata": {},
   "outputs": [],
   "source": [
    "# write data frame to excel file\n",
    "os.makedirs('output', exist_ok = True)\n",
    "df.to_excel(\"output/obama_speeches.xlsx\")"
   ]
  },
  {
   "cell_type": "code",
   "execution_count": null,
   "id": "b6849e2d",
   "metadata": {},
   "outputs": [],
   "source": []
  }
 ],
 "metadata": {
  "hide_input": false,
  "kernelspec": {
   "display_name": "Python 3 (ipykernel)",
   "language": "python",
   "name": "python3"
  },
  "language_info": {
   "codemirror_mode": {
    "name": "ipython",
    "version": 3
   },
   "file_extension": ".py",
   "mimetype": "text/x-python",
   "name": "python",
   "nbconvert_exporter": "python",
   "pygments_lexer": "ipython3",
   "version": "3.9.5"
  },
  "latex_envs": {
   "LaTeX_envs_menu_present": true,
   "autoclose": false,
   "autocomplete": true,
   "bibliofile": "biblio.bib",
   "cite_by": "apalike",
   "current_citInitial": 1,
   "eqLabelWithNumbers": true,
   "eqNumInitial": 1,
   "hotkeys": {
    "equation": "Ctrl-E",
    "itemize": "Ctrl-I"
   },
   "labels_anchors": false,
   "latex_user_defs": false,
   "report_style_numbering": false,
   "user_envs_cfg": false
  },
  "toc": {
   "base_numbering": 1,
   "nav_menu": {},
   "number_sections": true,
   "sideBar": true,
   "skip_h1_title": false,
   "title_cell": "Table of Contents",
   "title_sidebar": "Contents",
   "toc_cell": false,
   "toc_position": {},
   "toc_section_display": true,
   "toc_window_display": true
  }
 },
 "nbformat": 4,
 "nbformat_minor": 5
}
